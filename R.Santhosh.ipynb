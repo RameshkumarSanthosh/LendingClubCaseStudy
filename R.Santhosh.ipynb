{
 "cells": [
  {
   "cell_type": "markdown",
   "metadata": {},
   "source": [
    "\n",
    "# <font color=blue> Exploratory Data Analysis on loan data from LendingClub to minimize the risk of default for all loans issued during 2007 to 2011. </font>"
   ]
  },
  {
   "cell_type": "markdown",
   "metadata": {},
   "source": [
    "# <font color=green> 1. Introduction </font>"
   ]
  },
  {
   "cell_type": "markdown",
   "metadata": {},
   "source": [
    "### Importing the necessary libraries"
   ]
  },
  {
   "cell_type": "code",
   "execution_count": 1,
   "metadata": {},
   "outputs": [],
   "source": [
    "import pandas as pd\n",
    "import numpy as np\n",
    "import matplotlib.pyplot as plt\n",
    "%matplotlib inline\n",
    "import seaborn as sns"
   ]
  },
  {
   "cell_type": "code",
   "execution_count": 2,
   "metadata": {},
   "outputs": [
    {
     "name": "stderr",
     "output_type": "stream",
     "text": [
      "C:\\Users\\Santhosh\\anaconda3\\lib\\site-packages\\IPython\\core\\interactiveshell.py:3071: DtypeWarning: Columns (47) have mixed types.Specify dtype option on import or set low_memory=False.\n",
      "  has_raised = await self.run_ast_nodes(code_ast.body, cell_name,\n"
     ]
    }
   ],
   "source": [
    "data=pd.read_csv(\"loan.csv\")"
   ]
  },
  {
   "cell_type": "markdown",
   "metadata": {},
   "source": [
    "# <font color=green> 2. Understanding the Data </font>"
   ]
  },
  {
   "cell_type": "markdown",
   "metadata": {},
   "source": [
    "Importing the Data Dictionary"
   ]
  },
  {
   "cell_type": "code",
   "execution_count": 3,
   "metadata": {},
   "outputs": [
    {
     "data": {
      "text/html": [
       "<table border=\"1\" class=\"dataframe table table-bordered\">\n",
       "  <thead>\n",
       "    <tr style=\"text-align: right;\">\n",
       "      <th></th>\n",
       "      <th>LoanStatNew</th>\n",
       "      <th>Description</th>\n",
       "    </tr>\n",
       "  </thead>\n",
       "  <tbody>\n",
       "    <tr>\n",
       "      <th>0</th>\n",
       "      <td>acc_now_delinq</td>\n",
       "      <td>The number of accounts on which the borrower is now delinquent.</td>\n",
       "    </tr>\n",
       "    <tr>\n",
       "      <th>1</th>\n",
       "      <td>acc_open_past_24mths</td>\n",
       "      <td>Number of trades opened in past 24 months.</td>\n",
       "    </tr>\n",
       "    <tr>\n",
       "      <th>2</th>\n",
       "      <td>addr_state</td>\n",
       "      <td>The state provided by the borrower in the loan application</td>\n",
       "    </tr>\n",
       "    <tr>\n",
       "      <th>3</th>\n",
       "      <td>all_util</td>\n",
       "      <td>Balance to credit limit on all trades</td>\n",
       "    </tr>\n",
       "    <tr>\n",
       "      <th>4</th>\n",
       "      <td>annual_inc</td>\n",
       "      <td>The self-reported annual income provided by the borrower during registration.</td>\n",
       "    </tr>\n",
       "    <tr>\n",
       "      <th>5</th>\n",
       "      <td>annual_inc_joint</td>\n",
       "      <td>The combined self-reported annual income provided by the co-borrowers during registration</td>\n",
       "    </tr>\n",
       "    <tr>\n",
       "      <th>6</th>\n",
       "      <td>application_type</td>\n",
       "      <td>Indicates whether the loan is an individual application or a joint application with two co-borrowers</td>\n",
       "    </tr>\n",
       "    <tr>\n",
       "      <th>7</th>\n",
       "      <td>avg_cur_bal</td>\n",
       "      <td>Average current balance of all accounts</td>\n",
       "    </tr>\n",
       "    <tr>\n",
       "      <th>8</th>\n",
       "      <td>bc_open_to_buy</td>\n",
       "      <td>Total open to buy on revolving bankcards.</td>\n",
       "    </tr>\n",
       "    <tr>\n",
       "      <th>9</th>\n",
       "      <td>bc_util</td>\n",
       "      <td>Ratio of total current balance to high credit/credit limit for all bankcard accounts.</td>\n",
       "    </tr>\n",
       "    <tr>\n",
       "      <th>10</th>\n",
       "      <td>chargeoff_within_12_mths</td>\n",
       "      <td>Number of charge-offs within 12 months</td>\n",
       "    </tr>\n",
       "    <tr>\n",
       "      <th>11</th>\n",
       "      <td>collection_recovery_fee</td>\n",
       "      <td>post charge off collection fee</td>\n",
       "    </tr>\n",
       "    <tr>\n",
       "      <th>12</th>\n",
       "      <td>collections_12_mths_ex_med</td>\n",
       "      <td>Number of collections in 12 months excluding medical collections</td>\n",
       "    </tr>\n",
       "    <tr>\n",
       "      <th>13</th>\n",
       "      <td>delinq_2yrs</td>\n",
       "      <td>The number of 30+ days past-due incidences of delinquency in the borrower's credit file for the past 2 years</td>\n",
       "    </tr>\n",
       "    <tr>\n",
       "      <th>14</th>\n",
       "      <td>delinq_amnt</td>\n",
       "      <td>The past-due amount owed for the accounts on which the borrower is now delinquent.</td>\n",
       "    </tr>\n",
       "    <tr>\n",
       "      <th>15</th>\n",
       "      <td>desc</td>\n",
       "      <td>Loan description provided by the borrower</td>\n",
       "    </tr>\n",
       "    <tr>\n",
       "      <th>16</th>\n",
       "      <td>dti</td>\n",
       "      <td>A ratio calculated using the borrower’s total monthly debt payments on the total debt obligations, excluding mortgage and the requested LC loan, divided by the borrower’s self-reported monthly income.</td>\n",
       "    </tr>\n",
       "    <tr>\n",
       "      <th>17</th>\n",
       "      <td>dti_joint</td>\n",
       "      <td>A ratio calculated using the co-borrowers' total monthly payments on the total debt obligations, excluding mortgages and the requested LC loan, divided by the co-borrowers' combined self-reported monthly income</td>\n",
       "    </tr>\n",
       "    <tr>\n",
       "      <th>18</th>\n",
       "      <td>earliest_cr_line</td>\n",
       "      <td>The month the borrower's earliest reported credit line was opened</td>\n",
       "    </tr>\n",
       "    <tr>\n",
       "      <th>19</th>\n",
       "      <td>emp_length</td>\n",
       "      <td>Employment length in years. Possible values are between 0 and 10 where 0 means less than one year and 10 means ten or more years.</td>\n",
       "    </tr>\n",
       "    <tr>\n",
       "      <th>20</th>\n",
       "      <td>emp_title</td>\n",
       "      <td>The job title supplied by the Borrower when applying for the loan.*</td>\n",
       "    </tr>\n",
       "    <tr>\n",
       "      <th>21</th>\n",
       "      <td>fico_range_high</td>\n",
       "      <td>The upper boundary range the borrower’s FICO at loan origination belongs to.</td>\n",
       "    </tr>\n",
       "    <tr>\n",
       "      <th>22</th>\n",
       "      <td>fico_range_low</td>\n",
       "      <td>The lower boundary range the borrower’s FICO at loan origination belongs to.</td>\n",
       "    </tr>\n",
       "    <tr>\n",
       "      <th>23</th>\n",
       "      <td>funded_amnt</td>\n",
       "      <td>The total amount committed to that loan at that point in time.</td>\n",
       "    </tr>\n",
       "    <tr>\n",
       "      <th>24</th>\n",
       "      <td>funded_amnt_inv</td>\n",
       "      <td>The total amount committed by investors for that loan at that point in time.</td>\n",
       "    </tr>\n",
       "    <tr>\n",
       "      <th>25</th>\n",
       "      <td>grade</td>\n",
       "      <td>LC assigned loan grade</td>\n",
       "    </tr>\n",
       "    <tr>\n",
       "      <th>26</th>\n",
       "      <td>home_ownership</td>\n",
       "      <td>The home ownership status provided by the borrower during registration. Our values are: RENT, OWN, MORTGAGE, OTHER.</td>\n",
       "    </tr>\n",
       "    <tr>\n",
       "      <th>27</th>\n",
       "      <td>id</td>\n",
       "      <td>A unique LC assigned ID for the loan listing.</td>\n",
       "    </tr>\n",
       "    <tr>\n",
       "      <th>28</th>\n",
       "      <td>il_util</td>\n",
       "      <td>Ratio of total current balance to high credit/credit limit on all install acct</td>\n",
       "    </tr>\n",
       "    <tr>\n",
       "      <th>29</th>\n",
       "      <td>initial_list_status</td>\n",
       "      <td>The initial listing status of the loan. Possible values are – W, F</td>\n",
       "    </tr>\n",
       "    <tr>\n",
       "      <th>30</th>\n",
       "      <td>inq_fi</td>\n",
       "      <td>Number of personal finance inquiries</td>\n",
       "    </tr>\n",
       "    <tr>\n",
       "      <th>31</th>\n",
       "      <td>inq_last_12m</td>\n",
       "      <td>Number of credit inquiries in past 12 months</td>\n",
       "    </tr>\n",
       "    <tr>\n",
       "      <th>32</th>\n",
       "      <td>inq_last_6mths</td>\n",
       "      <td>The number of inquiries in past 6 months (excluding auto and mortgage inquiries)</td>\n",
       "    </tr>\n",
       "    <tr>\n",
       "      <th>33</th>\n",
       "      <td>installment</td>\n",
       "      <td>The monthly payment owed by the borrower if the loan originates.</td>\n",
       "    </tr>\n",
       "    <tr>\n",
       "      <th>34</th>\n",
       "      <td>int_rate</td>\n",
       "      <td>Interest Rate on the loan</td>\n",
       "    </tr>\n",
       "    <tr>\n",
       "      <th>35</th>\n",
       "      <td>issue_d</td>\n",
       "      <td>The month which the loan was funded</td>\n",
       "    </tr>\n",
       "    <tr>\n",
       "      <th>36</th>\n",
       "      <td>last_credit_pull_d</td>\n",
       "      <td>The most recent month LC pulled credit for this loan</td>\n",
       "    </tr>\n",
       "    <tr>\n",
       "      <th>37</th>\n",
       "      <td>last_fico_range_high</td>\n",
       "      <td>The upper boundary range the borrower’s last FICO pulled belongs to.</td>\n",
       "    </tr>\n",
       "    <tr>\n",
       "      <th>38</th>\n",
       "      <td>last_fico_range_low</td>\n",
       "      <td>The lower boundary range the borrower’s last FICO pulled belongs to.</td>\n",
       "    </tr>\n",
       "    <tr>\n",
       "      <th>39</th>\n",
       "      <td>last_pymnt_amnt</td>\n",
       "      <td>Last total payment amount received</td>\n",
       "    </tr>\n",
       "    <tr>\n",
       "      <th>40</th>\n",
       "      <td>last_pymnt_d</td>\n",
       "      <td>Last month payment was received</td>\n",
       "    </tr>\n",
       "    <tr>\n",
       "      <th>41</th>\n",
       "      <td>loan_amnt</td>\n",
       "      <td>The listed amount of the loan applied for by the borrower. If at some point in time, the credit department reduces the loan amount, then it will be reflected in this value.</td>\n",
       "    </tr>\n",
       "    <tr>\n",
       "      <th>42</th>\n",
       "      <td>loan_status</td>\n",
       "      <td>Current status of the loan</td>\n",
       "    </tr>\n",
       "    <tr>\n",
       "      <th>43</th>\n",
       "      <td>max_bal_bc</td>\n",
       "      <td>Maximum current balance owed on all revolving accounts</td>\n",
       "    </tr>\n",
       "    <tr>\n",
       "      <th>44</th>\n",
       "      <td>member_id</td>\n",
       "      <td>A unique LC assigned Id for the borrower member.</td>\n",
       "    </tr>\n",
       "    <tr>\n",
       "      <th>45</th>\n",
       "      <td>mo_sin_old_il_acct</td>\n",
       "      <td>Months since oldest bank installment account opened</td>\n",
       "    </tr>\n",
       "    <tr>\n",
       "      <th>46</th>\n",
       "      <td>mo_sin_old_rev_tl_op</td>\n",
       "      <td>Months since oldest revolving account opened</td>\n",
       "    </tr>\n",
       "    <tr>\n",
       "      <th>47</th>\n",
       "      <td>mo_sin_rcnt_rev_tl_op</td>\n",
       "      <td>Months since most recent revolving account opened</td>\n",
       "    </tr>\n",
       "    <tr>\n",
       "      <th>48</th>\n",
       "      <td>mo_sin_rcnt_tl</td>\n",
       "      <td>Months since most recent account opened</td>\n",
       "    </tr>\n",
       "    <tr>\n",
       "      <th>49</th>\n",
       "      <td>mort_acc</td>\n",
       "      <td>Number of mortgage accounts.</td>\n",
       "    </tr>\n",
       "    <tr>\n",
       "      <th>50</th>\n",
       "      <td>mths_since_last_delinq</td>\n",
       "      <td>The number of months since the borrower's last delinquency.</td>\n",
       "    </tr>\n",
       "    <tr>\n",
       "      <th>51</th>\n",
       "      <td>mths_since_last_major_derog</td>\n",
       "      <td>Months since most recent 90-day or worse rating</td>\n",
       "    </tr>\n",
       "    <tr>\n",
       "      <th>52</th>\n",
       "      <td>mths_since_last_record</td>\n",
       "      <td>The number of months since the last public record.</td>\n",
       "    </tr>\n",
       "    <tr>\n",
       "      <th>53</th>\n",
       "      <td>mths_since_rcnt_il</td>\n",
       "      <td>Months since most recent installment accounts opened</td>\n",
       "    </tr>\n",
       "    <tr>\n",
       "      <th>54</th>\n",
       "      <td>mths_since_recent_bc</td>\n",
       "      <td>Months since most recent bankcard account opened.</td>\n",
       "    </tr>\n",
       "    <tr>\n",
       "      <th>55</th>\n",
       "      <td>mths_since_recent_bc_dlq</td>\n",
       "      <td>Months since most recent bankcard delinquency</td>\n",
       "    </tr>\n",
       "    <tr>\n",
       "      <th>56</th>\n",
       "      <td>mths_since_recent_inq</td>\n",
       "      <td>Months since most recent inquiry.</td>\n",
       "    </tr>\n",
       "    <tr>\n",
       "      <th>57</th>\n",
       "      <td>mths_since_recent_revol_delinq</td>\n",
       "      <td>Months since most recent revolving delinquency.</td>\n",
       "    </tr>\n",
       "    <tr>\n",
       "      <th>58</th>\n",
       "      <td>next_pymnt_d</td>\n",
       "      <td>Next scheduled payment date</td>\n",
       "    </tr>\n",
       "    <tr>\n",
       "      <th>59</th>\n",
       "      <td>num_accts_ever_120_pd</td>\n",
       "      <td>Number of accounts ever 120 or more days past due</td>\n",
       "    </tr>\n",
       "    <tr>\n",
       "      <th>60</th>\n",
       "      <td>num_actv_bc_tl</td>\n",
       "      <td>Number of currently active bankcard accounts</td>\n",
       "    </tr>\n",
       "    <tr>\n",
       "      <th>61</th>\n",
       "      <td>num_actv_rev_tl</td>\n",
       "      <td>Number of currently active revolving trades</td>\n",
       "    </tr>\n",
       "    <tr>\n",
       "      <th>62</th>\n",
       "      <td>num_bc_sats</td>\n",
       "      <td>Number of satisfactory bankcard accounts</td>\n",
       "    </tr>\n",
       "    <tr>\n",
       "      <th>63</th>\n",
       "      <td>num_bc_tl</td>\n",
       "      <td>Number of bankcard accounts</td>\n",
       "    </tr>\n",
       "    <tr>\n",
       "      <th>64</th>\n",
       "      <td>num_il_tl</td>\n",
       "      <td>Number of installment accounts</td>\n",
       "    </tr>\n",
       "    <tr>\n",
       "      <th>65</th>\n",
       "      <td>num_op_rev_tl</td>\n",
       "      <td>Number of open revolving accounts</td>\n",
       "    </tr>\n",
       "    <tr>\n",
       "      <th>66</th>\n",
       "      <td>num_rev_accts</td>\n",
       "      <td>Number of revolving accounts</td>\n",
       "    </tr>\n",
       "    <tr>\n",
       "      <th>67</th>\n",
       "      <td>num_rev_tl_bal_gt_0</td>\n",
       "      <td>Number of revolving trades with balance &gt;0</td>\n",
       "    </tr>\n",
       "    <tr>\n",
       "      <th>68</th>\n",
       "      <td>num_sats</td>\n",
       "      <td>Number of satisfactory accounts</td>\n",
       "    </tr>\n",
       "    <tr>\n",
       "      <th>69</th>\n",
       "      <td>num_tl_120dpd_2m</td>\n",
       "      <td>Number of accounts currently 120 days past due (updated in past 2 months)</td>\n",
       "    </tr>\n",
       "    <tr>\n",
       "      <th>70</th>\n",
       "      <td>num_tl_30dpd</td>\n",
       "      <td>Number of accounts currently 30 days past due (updated in past 2 months)</td>\n",
       "    </tr>\n",
       "    <tr>\n",
       "      <th>71</th>\n",
       "      <td>num_tl_90g_dpd_24m</td>\n",
       "      <td>Number of accounts 90 or more days past due in last 24 months</td>\n",
       "    </tr>\n",
       "    <tr>\n",
       "      <th>72</th>\n",
       "      <td>num_tl_op_past_12m</td>\n",
       "      <td>Number of accounts opened in past 12 months</td>\n",
       "    </tr>\n",
       "    <tr>\n",
       "      <th>73</th>\n",
       "      <td>open_acc</td>\n",
       "      <td>The number of open credit lines in the borrower's credit file.</td>\n",
       "    </tr>\n",
       "    <tr>\n",
       "      <th>74</th>\n",
       "      <td>open_acc_6m</td>\n",
       "      <td>Number of open trades in last 6 months</td>\n",
       "    </tr>\n",
       "    <tr>\n",
       "      <th>75</th>\n",
       "      <td>open_il_12m</td>\n",
       "      <td>Number of installment accounts opened in past 12 months</td>\n",
       "    </tr>\n",
       "    <tr>\n",
       "      <th>76</th>\n",
       "      <td>open_il_24m</td>\n",
       "      <td>Number of installment accounts opened in past 24 months</td>\n",
       "    </tr>\n",
       "    <tr>\n",
       "      <th>77</th>\n",
       "      <td>open_il_6m</td>\n",
       "      <td>Number of currently active installment trades</td>\n",
       "    </tr>\n",
       "    <tr>\n",
       "      <th>78</th>\n",
       "      <td>open_rv_12m</td>\n",
       "      <td>Number of revolving trades opened in past 12 months</td>\n",
       "    </tr>\n",
       "    <tr>\n",
       "      <th>79</th>\n",
       "      <td>open_rv_24m</td>\n",
       "      <td>Number of revolving trades opened in past 24 months</td>\n",
       "    </tr>\n",
       "    <tr>\n",
       "      <th>80</th>\n",
       "      <td>out_prncp</td>\n",
       "      <td>Remaining outstanding principal for total amount funded</td>\n",
       "    </tr>\n",
       "    <tr>\n",
       "      <th>81</th>\n",
       "      <td>out_prncp_inv</td>\n",
       "      <td>Remaining outstanding principal for portion of total amount funded by investors</td>\n",
       "    </tr>\n",
       "    <tr>\n",
       "      <th>82</th>\n",
       "      <td>pct_tl_nvr_dlq</td>\n",
       "      <td>Percent of trades never delinquent</td>\n",
       "    </tr>\n",
       "    <tr>\n",
       "      <th>83</th>\n",
       "      <td>percent_bc_gt_75</td>\n",
       "      <td>Percentage of all bankcard accounts &gt; 75% of limit.</td>\n",
       "    </tr>\n",
       "    <tr>\n",
       "      <th>84</th>\n",
       "      <td>policy_code</td>\n",
       "      <td>publicly available policy_code=1\\nnew products not publicly available policy_code=2</td>\n",
       "    </tr>\n",
       "    <tr>\n",
       "      <th>85</th>\n",
       "      <td>pub_rec</td>\n",
       "      <td>Number of derogatory public records</td>\n",
       "    </tr>\n",
       "    <tr>\n",
       "      <th>86</th>\n",
       "      <td>pub_rec_bankruptcies</td>\n",
       "      <td>Number of public record bankruptcies</td>\n",
       "    </tr>\n",
       "    <tr>\n",
       "      <th>87</th>\n",
       "      <td>purpose</td>\n",
       "      <td>A category provided by the borrower for the loan request.</td>\n",
       "    </tr>\n",
       "    <tr>\n",
       "      <th>88</th>\n",
       "      <td>pymnt_plan</td>\n",
       "      <td>Indicates if a payment plan has been put in place for the loan</td>\n",
       "    </tr>\n",
       "    <tr>\n",
       "      <th>89</th>\n",
       "      <td>recoveries</td>\n",
       "      <td>post charge off gross recovery</td>\n",
       "    </tr>\n",
       "    <tr>\n",
       "      <th>90</th>\n",
       "      <td>revol_bal</td>\n",
       "      <td>Total credit revolving balance</td>\n",
       "    </tr>\n",
       "    <tr>\n",
       "      <th>91</th>\n",
       "      <td>revol_util</td>\n",
       "      <td>Revolving line utilization rate, or the amount of credit the borrower is using relative to all available revolving credit.</td>\n",
       "    </tr>\n",
       "    <tr>\n",
       "      <th>92</th>\n",
       "      <td>sub_grade</td>\n",
       "      <td>LC assigned loan subgrade</td>\n",
       "    </tr>\n",
       "    <tr>\n",
       "      <th>93</th>\n",
       "      <td>tax_liens</td>\n",
       "      <td>Number of tax liens</td>\n",
       "    </tr>\n",
       "    <tr>\n",
       "      <th>94</th>\n",
       "      <td>term</td>\n",
       "      <td>The number of payments on the loan. Values are in months and can be either 36 or 60.</td>\n",
       "    </tr>\n",
       "    <tr>\n",
       "      <th>95</th>\n",
       "      <td>title</td>\n",
       "      <td>The loan title provided by the borrower</td>\n",
       "    </tr>\n",
       "    <tr>\n",
       "      <th>96</th>\n",
       "      <td>tot_coll_amt</td>\n",
       "      <td>Total collection amounts ever owed</td>\n",
       "    </tr>\n",
       "    <tr>\n",
       "      <th>97</th>\n",
       "      <td>tot_cur_bal</td>\n",
       "      <td>Total current balance of all accounts</td>\n",
       "    </tr>\n",
       "    <tr>\n",
       "      <th>98</th>\n",
       "      <td>tot_hi_cred_lim</td>\n",
       "      <td>Total high credit/credit limit</td>\n",
       "    </tr>\n",
       "    <tr>\n",
       "      <th>99</th>\n",
       "      <td>total_acc</td>\n",
       "      <td>The total number of credit lines currently in the borrower's credit file</td>\n",
       "    </tr>\n",
       "    <tr>\n",
       "      <th>100</th>\n",
       "      <td>total_bal_ex_mort</td>\n",
       "      <td>Total credit balance excluding mortgage</td>\n",
       "    </tr>\n",
       "    <tr>\n",
       "      <th>101</th>\n",
       "      <td>total_bal_il</td>\n",
       "      <td>Total current balance of all installment accounts</td>\n",
       "    </tr>\n",
       "    <tr>\n",
       "      <th>102</th>\n",
       "      <td>total_bc_limit</td>\n",
       "      <td>Total bankcard high credit/credit limit</td>\n",
       "    </tr>\n",
       "    <tr>\n",
       "      <th>103</th>\n",
       "      <td>total_cu_tl</td>\n",
       "      <td>Number of finance trades</td>\n",
       "    </tr>\n",
       "    <tr>\n",
       "      <th>104</th>\n",
       "      <td>total_il_high_credit_limit</td>\n",
       "      <td>Total installment high credit/credit limit</td>\n",
       "    </tr>\n",
       "    <tr>\n",
       "      <th>105</th>\n",
       "      <td>total_pymnt</td>\n",
       "      <td>Payments received to date for total amount funded</td>\n",
       "    </tr>\n",
       "    <tr>\n",
       "      <th>106</th>\n",
       "      <td>total_pymnt_inv</td>\n",
       "      <td>Payments received to date for portion of total amount funded by investors</td>\n",
       "    </tr>\n",
       "    <tr>\n",
       "      <th>107</th>\n",
       "      <td>total_rec_int</td>\n",
       "      <td>Interest received to date</td>\n",
       "    </tr>\n",
       "    <tr>\n",
       "      <th>108</th>\n",
       "      <td>total_rec_late_fee</td>\n",
       "      <td>Late fees received to date</td>\n",
       "    </tr>\n",
       "    <tr>\n",
       "      <th>109</th>\n",
       "      <td>total_rec_prncp</td>\n",
       "      <td>Principal received to date</td>\n",
       "    </tr>\n",
       "    <tr>\n",
       "      <th>110</th>\n",
       "      <td>total_rev_hi_lim</td>\n",
       "      <td>Total revolving high credit/credit limit</td>\n",
       "    </tr>\n",
       "    <tr>\n",
       "      <th>111</th>\n",
       "      <td>url</td>\n",
       "      <td>URL for the LC page with listing data.</td>\n",
       "    </tr>\n",
       "    <tr>\n",
       "      <th>112</th>\n",
       "      <td>verification_status</td>\n",
       "      <td>Indicates if income was verified by LC, not verified, or if the income source was verified</td>\n",
       "    </tr>\n",
       "    <tr>\n",
       "      <th>113</th>\n",
       "      <td>verified_status_joint</td>\n",
       "      <td>Indicates if the co-borrowers' joint income was verified by LC, not verified, or if the income source was verified</td>\n",
       "    </tr>\n",
       "    <tr>\n",
       "      <th>114</th>\n",
       "      <td>zip_code</td>\n",
       "      <td>The first 3 numbers of the zip code provided by the borrower in the loan application.</td>\n",
       "    </tr>\n",
       "    <tr>\n",
       "      <th>115</th>\n",
       "      <td>NaN</td>\n",
       "      <td>NaN</td>\n",
       "    </tr>\n",
       "    <tr>\n",
       "      <th>116</th>\n",
       "      <td>NaN</td>\n",
       "      <td>* Employer Title replaces Employer Name for all loans listed after 9/23/2013</td>\n",
       "    </tr>\n",
       "  </tbody>\n",
       "</table>"
      ],
      "text/plain": [
       "<IPython.core.display.HTML object>"
      ]
     },
     "metadata": {},
     "output_type": "display_data"
    }
   ],
   "source": [
    "data_dic=pd.read_excel(\"Data_Dictionary.xlsx\")\n",
    "from IPython.display import display, HTML\n",
    "display(HTML(data_dic.to_html(classes='table table-bordered')))"
   ]
  },
  {
   "cell_type": "code",
   "execution_count": 4,
   "metadata": {},
   "outputs": [
    {
     "name": "stdout",
     "output_type": "stream",
     "text": [
      "<class 'pandas.core.frame.DataFrame'>\n",
      "RangeIndex: 39717 entries, 0 to 39716\n",
      "Data columns (total 111 columns):\n",
      " #   Column                          Non-Null Count  Dtype  \n",
      "---  ------                          --------------  -----  \n",
      " 0   id                              39717 non-null  int64  \n",
      " 1   member_id                       39717 non-null  int64  \n",
      " 2   loan_amnt                       39717 non-null  int64  \n",
      " 3   funded_amnt                     39717 non-null  int64  \n",
      " 4   funded_amnt_inv                 39717 non-null  float64\n",
      " 5   term                            39717 non-null  object \n",
      " 6   int_rate                        39717 non-null  object \n",
      " 7   installment                     39717 non-null  float64\n",
      " 8   grade                           39717 non-null  object \n",
      " 9   sub_grade                       39717 non-null  object \n",
      " 10  emp_title                       37258 non-null  object \n",
      " 11  emp_length                      38642 non-null  object \n",
      " 12  home_ownership                  39717 non-null  object \n",
      " 13  annual_inc                      39717 non-null  float64\n",
      " 14  verification_status             39717 non-null  object \n",
      " 15  issue_d                         39717 non-null  object \n",
      " 16  loan_status                     39717 non-null  object \n",
      " 17  pymnt_plan                      39717 non-null  object \n",
      " 18  url                             39717 non-null  object \n",
      " 19  desc                            26777 non-null  object \n",
      " 20  purpose                         39717 non-null  object \n",
      " 21  title                           39706 non-null  object \n",
      " 22  zip_code                        39717 non-null  object \n",
      " 23  addr_state                      39717 non-null  object \n",
      " 24  dti                             39717 non-null  float64\n",
      " 25  delinq_2yrs                     39717 non-null  int64  \n",
      " 26  earliest_cr_line                39717 non-null  object \n",
      " 27  inq_last_6mths                  39717 non-null  int64  \n",
      " 28  mths_since_last_delinq          14035 non-null  float64\n",
      " 29  mths_since_last_record          2786 non-null   float64\n",
      " 30  open_acc                        39717 non-null  int64  \n",
      " 31  pub_rec                         39717 non-null  int64  \n",
      " 32  revol_bal                       39717 non-null  int64  \n",
      " 33  revol_util                      39667 non-null  object \n",
      " 34  total_acc                       39717 non-null  int64  \n",
      " 35  initial_list_status             39717 non-null  object \n",
      " 36  out_prncp                       39717 non-null  float64\n",
      " 37  out_prncp_inv                   39717 non-null  float64\n",
      " 38  total_pymnt                     39717 non-null  float64\n",
      " 39  total_pymnt_inv                 39717 non-null  float64\n",
      " 40  total_rec_prncp                 39717 non-null  float64\n",
      " 41  total_rec_int                   39717 non-null  float64\n",
      " 42  total_rec_late_fee              39717 non-null  float64\n",
      " 43  recoveries                      39717 non-null  float64\n",
      " 44  collection_recovery_fee         39717 non-null  float64\n",
      " 45  last_pymnt_d                    39646 non-null  object \n",
      " 46  last_pymnt_amnt                 39717 non-null  float64\n",
      " 47  next_pymnt_d                    1140 non-null   object \n",
      " 48  last_credit_pull_d              39715 non-null  object \n",
      " 49  collections_12_mths_ex_med      39661 non-null  float64\n",
      " 50  mths_since_last_major_derog     0 non-null      float64\n",
      " 51  policy_code                     39717 non-null  int64  \n",
      " 52  application_type                39717 non-null  object \n",
      " 53  annual_inc_joint                0 non-null      float64\n",
      " 54  dti_joint                       0 non-null      float64\n",
      " 55  verification_status_joint       0 non-null      float64\n",
      " 56  acc_now_delinq                  39717 non-null  int64  \n",
      " 57  tot_coll_amt                    0 non-null      float64\n",
      " 58  tot_cur_bal                     0 non-null      float64\n",
      " 59  open_acc_6m                     0 non-null      float64\n",
      " 60  open_il_6m                      0 non-null      float64\n",
      " 61  open_il_12m                     0 non-null      float64\n",
      " 62  open_il_24m                     0 non-null      float64\n",
      " 63  mths_since_rcnt_il              0 non-null      float64\n",
      " 64  total_bal_il                    0 non-null      float64\n",
      " 65  il_util                         0 non-null      float64\n",
      " 66  open_rv_12m                     0 non-null      float64\n",
      " 67  open_rv_24m                     0 non-null      float64\n",
      " 68  max_bal_bc                      0 non-null      float64\n",
      " 69  all_util                        0 non-null      float64\n",
      " 70  total_rev_hi_lim                0 non-null      float64\n",
      " 71  inq_fi                          0 non-null      float64\n",
      " 72  total_cu_tl                     0 non-null      float64\n",
      " 73  inq_last_12m                    0 non-null      float64\n",
      " 74  acc_open_past_24mths            0 non-null      float64\n",
      " 75  avg_cur_bal                     0 non-null      float64\n",
      " 76  bc_open_to_buy                  0 non-null      float64\n",
      " 77  bc_util                         0 non-null      float64\n",
      " 78  chargeoff_within_12_mths        39661 non-null  float64\n",
      " 79  delinq_amnt                     39717 non-null  int64  \n",
      " 80  mo_sin_old_il_acct              0 non-null      float64\n",
      " 81  mo_sin_old_rev_tl_op            0 non-null      float64\n",
      " 82  mo_sin_rcnt_rev_tl_op           0 non-null      float64\n",
      " 83  mo_sin_rcnt_tl                  0 non-null      float64\n",
      " 84  mort_acc                        0 non-null      float64\n",
      " 85  mths_since_recent_bc            0 non-null      float64\n",
      " 86  mths_since_recent_bc_dlq        0 non-null      float64\n",
      " 87  mths_since_recent_inq           0 non-null      float64\n",
      " 88  mths_since_recent_revol_delinq  0 non-null      float64\n",
      " 89  num_accts_ever_120_pd           0 non-null      float64\n",
      " 90  num_actv_bc_tl                  0 non-null      float64\n",
      " 91  num_actv_rev_tl                 0 non-null      float64\n",
      " 92  num_bc_sats                     0 non-null      float64\n",
      " 93  num_bc_tl                       0 non-null      float64\n",
      " 94  num_il_tl                       0 non-null      float64\n",
      " 95  num_op_rev_tl                   0 non-null      float64\n",
      " 96  num_rev_accts                   0 non-null      float64\n",
      " 97  num_rev_tl_bal_gt_0             0 non-null      float64\n",
      " 98  num_sats                        0 non-null      float64\n",
      " 99  num_tl_120dpd_2m                0 non-null      float64\n",
      " 100 num_tl_30dpd                    0 non-null      float64\n",
      " 101 num_tl_90g_dpd_24m              0 non-null      float64\n",
      " 102 num_tl_op_past_12m              0 non-null      float64\n",
      " 103 pct_tl_nvr_dlq                  0 non-null      float64\n",
      " 104 percent_bc_gt_75                0 non-null      float64\n",
      " 105 pub_rec_bankruptcies            39020 non-null  float64\n",
      " 106 tax_liens                       39678 non-null  float64\n",
      " 107 tot_hi_cred_lim                 0 non-null      float64\n",
      " 108 total_bal_ex_mort               0 non-null      float64\n",
      " 109 total_bc_limit                  0 non-null      float64\n",
      " 110 total_il_high_credit_limit      0 non-null      float64\n",
      "dtypes: float64(74), int64(13), object(24)\n",
      "memory usage: 33.6+ MB\n",
      "None \n",
      "\n",
      "Data Type of INFO is <class 'NoneType'>\n"
     ]
    }
   ],
   "source": [
    "INFO=data.info(verbose=True, null_counts=True)\n",
    "print(INFO, '\\n')\n",
    "print('Data Type of INFO is', type(INFO))"
   ]
  },
  {
   "cell_type": "code",
   "execution_count": 5,
   "metadata": {},
   "outputs": [
    {
     "name": "stdout",
     "output_type": "stream",
     "text": [
      "No. of Rows in the dataset = 39717\n",
      "No. of Columns in the dataset = 111\n"
     ]
    }
   ],
   "source": [
    "#Identifying the number of Rows and Columns present in Original Dataset\n",
    "print('No. of Rows in the dataset =',data.shape[0])\n",
    "print('No. of Columns in the dataset =',data.shape[1])"
   ]
  },
  {
   "cell_type": "code",
   "execution_count": 6,
   "metadata": {},
   "outputs": [
    {
     "data": {
      "text/html": [
       "<div>\n",
       "<style scoped>\n",
       "    .dataframe tbody tr th:only-of-type {\n",
       "        vertical-align: middle;\n",
       "    }\n",
       "\n",
       "    .dataframe tbody tr th {\n",
       "        vertical-align: top;\n",
       "    }\n",
       "\n",
       "    .dataframe thead th {\n",
       "        text-align: right;\n",
       "    }\n",
       "</style>\n",
       "<table border=\"1\" class=\"dataframe\">\n",
       "  <thead>\n",
       "    <tr style=\"text-align: right;\">\n",
       "      <th></th>\n",
       "      <th>id</th>\n",
       "      <th>member_id</th>\n",
       "      <th>loan_amnt</th>\n",
       "      <th>funded_amnt</th>\n",
       "      <th>funded_amnt_inv</th>\n",
       "      <th>term</th>\n",
       "      <th>int_rate</th>\n",
       "      <th>installment</th>\n",
       "      <th>grade</th>\n",
       "      <th>sub_grade</th>\n",
       "      <th>...</th>\n",
       "      <th>num_tl_90g_dpd_24m</th>\n",
       "      <th>num_tl_op_past_12m</th>\n",
       "      <th>pct_tl_nvr_dlq</th>\n",
       "      <th>percent_bc_gt_75</th>\n",
       "      <th>pub_rec_bankruptcies</th>\n",
       "      <th>tax_liens</th>\n",
       "      <th>tot_hi_cred_lim</th>\n",
       "      <th>total_bal_ex_mort</th>\n",
       "      <th>total_bc_limit</th>\n",
       "      <th>total_il_high_credit_limit</th>\n",
       "    </tr>\n",
       "  </thead>\n",
       "  <tbody>\n",
       "    <tr>\n",
       "      <th>count</th>\n",
       "      <td>3.971700e+04</td>\n",
       "      <td>3.971700e+04</td>\n",
       "      <td>39717.000000</td>\n",
       "      <td>39717.000000</td>\n",
       "      <td>39717.000000</td>\n",
       "      <td>39717</td>\n",
       "      <td>39717</td>\n",
       "      <td>39717.000000</td>\n",
       "      <td>39717</td>\n",
       "      <td>39717</td>\n",
       "      <td>...</td>\n",
       "      <td>0.0</td>\n",
       "      <td>0.0</td>\n",
       "      <td>0.0</td>\n",
       "      <td>0.0</td>\n",
       "      <td>39020.000000</td>\n",
       "      <td>39678.0</td>\n",
       "      <td>0.0</td>\n",
       "      <td>0.0</td>\n",
       "      <td>0.0</td>\n",
       "      <td>0.0</td>\n",
       "    </tr>\n",
       "    <tr>\n",
       "      <th>unique</th>\n",
       "      <td>NaN</td>\n",
       "      <td>NaN</td>\n",
       "      <td>NaN</td>\n",
       "      <td>NaN</td>\n",
       "      <td>NaN</td>\n",
       "      <td>2</td>\n",
       "      <td>371</td>\n",
       "      <td>NaN</td>\n",
       "      <td>7</td>\n",
       "      <td>35</td>\n",
       "      <td>...</td>\n",
       "      <td>NaN</td>\n",
       "      <td>NaN</td>\n",
       "      <td>NaN</td>\n",
       "      <td>NaN</td>\n",
       "      <td>NaN</td>\n",
       "      <td>NaN</td>\n",
       "      <td>NaN</td>\n",
       "      <td>NaN</td>\n",
       "      <td>NaN</td>\n",
       "      <td>NaN</td>\n",
       "    </tr>\n",
       "    <tr>\n",
       "      <th>top</th>\n",
       "      <td>NaN</td>\n",
       "      <td>NaN</td>\n",
       "      <td>NaN</td>\n",
       "      <td>NaN</td>\n",
       "      <td>NaN</td>\n",
       "      <td>36 months</td>\n",
       "      <td>10.99%</td>\n",
       "      <td>NaN</td>\n",
       "      <td>B</td>\n",
       "      <td>B3</td>\n",
       "      <td>...</td>\n",
       "      <td>NaN</td>\n",
       "      <td>NaN</td>\n",
       "      <td>NaN</td>\n",
       "      <td>NaN</td>\n",
       "      <td>NaN</td>\n",
       "      <td>NaN</td>\n",
       "      <td>NaN</td>\n",
       "      <td>NaN</td>\n",
       "      <td>NaN</td>\n",
       "      <td>NaN</td>\n",
       "    </tr>\n",
       "    <tr>\n",
       "      <th>freq</th>\n",
       "      <td>NaN</td>\n",
       "      <td>NaN</td>\n",
       "      <td>NaN</td>\n",
       "      <td>NaN</td>\n",
       "      <td>NaN</td>\n",
       "      <td>29096</td>\n",
       "      <td>956</td>\n",
       "      <td>NaN</td>\n",
       "      <td>12020</td>\n",
       "      <td>2917</td>\n",
       "      <td>...</td>\n",
       "      <td>NaN</td>\n",
       "      <td>NaN</td>\n",
       "      <td>NaN</td>\n",
       "      <td>NaN</td>\n",
       "      <td>NaN</td>\n",
       "      <td>NaN</td>\n",
       "      <td>NaN</td>\n",
       "      <td>NaN</td>\n",
       "      <td>NaN</td>\n",
       "      <td>NaN</td>\n",
       "    </tr>\n",
       "    <tr>\n",
       "      <th>mean</th>\n",
       "      <td>6.831319e+05</td>\n",
       "      <td>8.504636e+05</td>\n",
       "      <td>11219.443815</td>\n",
       "      <td>10947.713196</td>\n",
       "      <td>10397.448868</td>\n",
       "      <td>NaN</td>\n",
       "      <td>NaN</td>\n",
       "      <td>324.561922</td>\n",
       "      <td>NaN</td>\n",
       "      <td>NaN</td>\n",
       "      <td>...</td>\n",
       "      <td>NaN</td>\n",
       "      <td>NaN</td>\n",
       "      <td>NaN</td>\n",
       "      <td>NaN</td>\n",
       "      <td>0.043260</td>\n",
       "      <td>0.0</td>\n",
       "      <td>NaN</td>\n",
       "      <td>NaN</td>\n",
       "      <td>NaN</td>\n",
       "      <td>NaN</td>\n",
       "    </tr>\n",
       "    <tr>\n",
       "      <th>std</th>\n",
       "      <td>2.106941e+05</td>\n",
       "      <td>2.656783e+05</td>\n",
       "      <td>7456.670694</td>\n",
       "      <td>7187.238670</td>\n",
       "      <td>7128.450439</td>\n",
       "      <td>NaN</td>\n",
       "      <td>NaN</td>\n",
       "      <td>208.874874</td>\n",
       "      <td>NaN</td>\n",
       "      <td>NaN</td>\n",
       "      <td>...</td>\n",
       "      <td>NaN</td>\n",
       "      <td>NaN</td>\n",
       "      <td>NaN</td>\n",
       "      <td>NaN</td>\n",
       "      <td>0.204324</td>\n",
       "      <td>0.0</td>\n",
       "      <td>NaN</td>\n",
       "      <td>NaN</td>\n",
       "      <td>NaN</td>\n",
       "      <td>NaN</td>\n",
       "    </tr>\n",
       "    <tr>\n",
       "      <th>min</th>\n",
       "      <td>5.473400e+04</td>\n",
       "      <td>7.069900e+04</td>\n",
       "      <td>500.000000</td>\n",
       "      <td>500.000000</td>\n",
       "      <td>0.000000</td>\n",
       "      <td>NaN</td>\n",
       "      <td>NaN</td>\n",
       "      <td>15.690000</td>\n",
       "      <td>NaN</td>\n",
       "      <td>NaN</td>\n",
       "      <td>...</td>\n",
       "      <td>NaN</td>\n",
       "      <td>NaN</td>\n",
       "      <td>NaN</td>\n",
       "      <td>NaN</td>\n",
       "      <td>0.000000</td>\n",
       "      <td>0.0</td>\n",
       "      <td>NaN</td>\n",
       "      <td>NaN</td>\n",
       "      <td>NaN</td>\n",
       "      <td>NaN</td>\n",
       "    </tr>\n",
       "    <tr>\n",
       "      <th>25%</th>\n",
       "      <td>5.162210e+05</td>\n",
       "      <td>6.667800e+05</td>\n",
       "      <td>5500.000000</td>\n",
       "      <td>5400.000000</td>\n",
       "      <td>5000.000000</td>\n",
       "      <td>NaN</td>\n",
       "      <td>NaN</td>\n",
       "      <td>167.020000</td>\n",
       "      <td>NaN</td>\n",
       "      <td>NaN</td>\n",
       "      <td>...</td>\n",
       "      <td>NaN</td>\n",
       "      <td>NaN</td>\n",
       "      <td>NaN</td>\n",
       "      <td>NaN</td>\n",
       "      <td>0.000000</td>\n",
       "      <td>0.0</td>\n",
       "      <td>NaN</td>\n",
       "      <td>NaN</td>\n",
       "      <td>NaN</td>\n",
       "      <td>NaN</td>\n",
       "    </tr>\n",
       "    <tr>\n",
       "      <th>50%</th>\n",
       "      <td>6.656650e+05</td>\n",
       "      <td>8.508120e+05</td>\n",
       "      <td>10000.000000</td>\n",
       "      <td>9600.000000</td>\n",
       "      <td>8975.000000</td>\n",
       "      <td>NaN</td>\n",
       "      <td>NaN</td>\n",
       "      <td>280.220000</td>\n",
       "      <td>NaN</td>\n",
       "      <td>NaN</td>\n",
       "      <td>...</td>\n",
       "      <td>NaN</td>\n",
       "      <td>NaN</td>\n",
       "      <td>NaN</td>\n",
       "      <td>NaN</td>\n",
       "      <td>0.000000</td>\n",
       "      <td>0.0</td>\n",
       "      <td>NaN</td>\n",
       "      <td>NaN</td>\n",
       "      <td>NaN</td>\n",
       "      <td>NaN</td>\n",
       "    </tr>\n",
       "    <tr>\n",
       "      <th>75%</th>\n",
       "      <td>8.377550e+05</td>\n",
       "      <td>1.047339e+06</td>\n",
       "      <td>15000.000000</td>\n",
       "      <td>15000.000000</td>\n",
       "      <td>14400.000000</td>\n",
       "      <td>NaN</td>\n",
       "      <td>NaN</td>\n",
       "      <td>430.780000</td>\n",
       "      <td>NaN</td>\n",
       "      <td>NaN</td>\n",
       "      <td>...</td>\n",
       "      <td>NaN</td>\n",
       "      <td>NaN</td>\n",
       "      <td>NaN</td>\n",
       "      <td>NaN</td>\n",
       "      <td>0.000000</td>\n",
       "      <td>0.0</td>\n",
       "      <td>NaN</td>\n",
       "      <td>NaN</td>\n",
       "      <td>NaN</td>\n",
       "      <td>NaN</td>\n",
       "    </tr>\n",
       "    <tr>\n",
       "      <th>max</th>\n",
       "      <td>1.077501e+06</td>\n",
       "      <td>1.314167e+06</td>\n",
       "      <td>35000.000000</td>\n",
       "      <td>35000.000000</td>\n",
       "      <td>35000.000000</td>\n",
       "      <td>NaN</td>\n",
       "      <td>NaN</td>\n",
       "      <td>1305.190000</td>\n",
       "      <td>NaN</td>\n",
       "      <td>NaN</td>\n",
       "      <td>...</td>\n",
       "      <td>NaN</td>\n",
       "      <td>NaN</td>\n",
       "      <td>NaN</td>\n",
       "      <td>NaN</td>\n",
       "      <td>2.000000</td>\n",
       "      <td>0.0</td>\n",
       "      <td>NaN</td>\n",
       "      <td>NaN</td>\n",
       "      <td>NaN</td>\n",
       "      <td>NaN</td>\n",
       "    </tr>\n",
       "  </tbody>\n",
       "</table>\n",
       "<p>11 rows × 111 columns</p>\n",
       "</div>"
      ],
      "text/plain": [
       "                  id     member_id     loan_amnt   funded_amnt  \\\n",
       "count   3.971700e+04  3.971700e+04  39717.000000  39717.000000   \n",
       "unique           NaN           NaN           NaN           NaN   \n",
       "top              NaN           NaN           NaN           NaN   \n",
       "freq             NaN           NaN           NaN           NaN   \n",
       "mean    6.831319e+05  8.504636e+05  11219.443815  10947.713196   \n",
       "std     2.106941e+05  2.656783e+05   7456.670694   7187.238670   \n",
       "min     5.473400e+04  7.069900e+04    500.000000    500.000000   \n",
       "25%     5.162210e+05  6.667800e+05   5500.000000   5400.000000   \n",
       "50%     6.656650e+05  8.508120e+05  10000.000000   9600.000000   \n",
       "75%     8.377550e+05  1.047339e+06  15000.000000  15000.000000   \n",
       "max     1.077501e+06  1.314167e+06  35000.000000  35000.000000   \n",
       "\n",
       "        funded_amnt_inv        term int_rate   installment  grade sub_grade  \\\n",
       "count      39717.000000       39717    39717  39717.000000  39717     39717   \n",
       "unique              NaN           2      371           NaN      7        35   \n",
       "top                 NaN   36 months   10.99%           NaN      B        B3   \n",
       "freq                NaN       29096      956           NaN  12020      2917   \n",
       "mean       10397.448868         NaN      NaN    324.561922    NaN       NaN   \n",
       "std         7128.450439         NaN      NaN    208.874874    NaN       NaN   \n",
       "min            0.000000         NaN      NaN     15.690000    NaN       NaN   \n",
       "25%         5000.000000         NaN      NaN    167.020000    NaN       NaN   \n",
       "50%         8975.000000         NaN      NaN    280.220000    NaN       NaN   \n",
       "75%        14400.000000         NaN      NaN    430.780000    NaN       NaN   \n",
       "max        35000.000000         NaN      NaN   1305.190000    NaN       NaN   \n",
       "\n",
       "        ... num_tl_90g_dpd_24m num_tl_op_past_12m pct_tl_nvr_dlq  \\\n",
       "count   ...                0.0                0.0            0.0   \n",
       "unique  ...                NaN                NaN            NaN   \n",
       "top     ...                NaN                NaN            NaN   \n",
       "freq    ...                NaN                NaN            NaN   \n",
       "mean    ...                NaN                NaN            NaN   \n",
       "std     ...                NaN                NaN            NaN   \n",
       "min     ...                NaN                NaN            NaN   \n",
       "25%     ...                NaN                NaN            NaN   \n",
       "50%     ...                NaN                NaN            NaN   \n",
       "75%     ...                NaN                NaN            NaN   \n",
       "max     ...                NaN                NaN            NaN   \n",
       "\n",
       "        percent_bc_gt_75 pub_rec_bankruptcies tax_liens tot_hi_cred_lim  \\\n",
       "count                0.0         39020.000000   39678.0             0.0   \n",
       "unique               NaN                  NaN       NaN             NaN   \n",
       "top                  NaN                  NaN       NaN             NaN   \n",
       "freq                 NaN                  NaN       NaN             NaN   \n",
       "mean                 NaN             0.043260       0.0             NaN   \n",
       "std                  NaN             0.204324       0.0             NaN   \n",
       "min                  NaN             0.000000       0.0             NaN   \n",
       "25%                  NaN             0.000000       0.0             NaN   \n",
       "50%                  NaN             0.000000       0.0             NaN   \n",
       "75%                  NaN             0.000000       0.0             NaN   \n",
       "max                  NaN             2.000000       0.0             NaN   \n",
       "\n",
       "       total_bal_ex_mort total_bc_limit total_il_high_credit_limit  \n",
       "count                0.0            0.0                        0.0  \n",
       "unique               NaN            NaN                        NaN  \n",
       "top                  NaN            NaN                        NaN  \n",
       "freq                 NaN            NaN                        NaN  \n",
       "mean                 NaN            NaN                        NaN  \n",
       "std                  NaN            NaN                        NaN  \n",
       "min                  NaN            NaN                        NaN  \n",
       "25%                  NaN            NaN                        NaN  \n",
       "50%                  NaN            NaN                        NaN  \n",
       "75%                  NaN            NaN                        NaN  \n",
       "max                  NaN            NaN                        NaN  \n",
       "\n",
       "[11 rows x 111 columns]"
      ]
     },
     "execution_count": 6,
     "metadata": {},
     "output_type": "execute_result"
    }
   ],
   "source": [
    "data.describe(include='all')"
   ]
  },
  {
   "cell_type": "markdown",
   "metadata": {},
   "source": [
    "<font color=red>\n",
    "    \n",
    "#### Observations from the Dataset:\n",
    "    \n",
    "- The loan dataset contains 111 Columns and 39717 Rows\n",
    "- There are 74 float,13 integer and 24 object datatypes\n",
    "</font>"
   ]
  },
  {
   "cell_type": "markdown",
   "metadata": {},
   "source": [
    "# <font color=green> 3. Data Cleaning and Manipulation </font>"
   ]
  },
  {
   "cell_type": "code",
   "execution_count": 7,
   "metadata": {},
   "outputs": [
    {
     "name": "stdout",
     "output_type": "stream",
     "text": [
      "id                              0.0\n",
      "member_id                       0.0\n",
      "loan_amnt                       0.0\n",
      "funded_amnt                     0.0\n",
      "funded_amnt_inv                 0.0\n",
      "                              ...  \n",
      "tax_liens                       0.1\n",
      "tot_hi_cred_lim               100.0\n",
      "total_bal_ex_mort             100.0\n",
      "total_bc_limit                100.0\n",
      "total_il_high_credit_limit    100.0\n",
      "Length: 111, dtype: float64\n"
     ]
    }
   ],
   "source": [
    "missingdata_percentage = (1-(data.count() / len (data)))*100\n",
    "print(round(missingdata_percentage,2))"
   ]
  },
  {
   "cell_type": "code",
   "execution_count": 8,
   "metadata": {},
   "outputs": [
    {
     "data": {
      "text/plain": [
       "pandas.core.series.Series"
      ]
     },
     "execution_count": 8,
     "metadata": {},
     "output_type": "execute_result"
    }
   ],
   "source": [
    "type(missingdata_percentage)"
   ]
  },
  {
   "cell_type": "code",
   "execution_count": 9,
   "metadata": {},
   "outputs": [
    {
     "name": "stdout",
     "output_type": "stream",
     "text": [
      "desc                               32.580507\n",
      "mths_since_last_delinq             64.662487\n",
      "mths_since_last_record             92.985372\n",
      "next_pymnt_d                       97.129693\n",
      "mths_since_last_major_derog       100.000000\n",
      "annual_inc_joint                  100.000000\n",
      "dti_joint                         100.000000\n",
      "verification_status_joint         100.000000\n",
      "tot_coll_amt                      100.000000\n",
      "tot_cur_bal                       100.000000\n",
      "open_acc_6m                       100.000000\n",
      "open_il_6m                        100.000000\n",
      "open_il_12m                       100.000000\n",
      "open_il_24m                       100.000000\n",
      "mths_since_rcnt_il                100.000000\n",
      "total_bal_il                      100.000000\n",
      "il_util                           100.000000\n",
      "open_rv_12m                       100.000000\n",
      "open_rv_24m                       100.000000\n",
      "max_bal_bc                        100.000000\n",
      "all_util                          100.000000\n",
      "total_rev_hi_lim                  100.000000\n",
      "inq_fi                            100.000000\n",
      "total_cu_tl                       100.000000\n",
      "inq_last_12m                      100.000000\n",
      "acc_open_past_24mths              100.000000\n",
      "avg_cur_bal                       100.000000\n",
      "bc_open_to_buy                    100.000000\n",
      "bc_util                           100.000000\n",
      "mo_sin_old_il_acct                100.000000\n",
      "mo_sin_old_rev_tl_op              100.000000\n",
      "mo_sin_rcnt_rev_tl_op             100.000000\n",
      "mo_sin_rcnt_tl                    100.000000\n",
      "mort_acc                          100.000000\n",
      "mths_since_recent_bc              100.000000\n",
      "mths_since_recent_bc_dlq          100.000000\n",
      "mths_since_recent_inq             100.000000\n",
      "mths_since_recent_revol_delinq    100.000000\n",
      "num_accts_ever_120_pd             100.000000\n",
      "num_actv_bc_tl                    100.000000\n",
      "num_actv_rev_tl                   100.000000\n",
      "num_bc_sats                       100.000000\n",
      "num_bc_tl                         100.000000\n",
      "num_il_tl                         100.000000\n",
      "num_op_rev_tl                     100.000000\n",
      "num_rev_accts                     100.000000\n",
      "num_rev_tl_bal_gt_0               100.000000\n",
      "num_sats                          100.000000\n",
      "num_tl_120dpd_2m                  100.000000\n",
      "num_tl_30dpd                      100.000000\n",
      "num_tl_90g_dpd_24m                100.000000\n",
      "num_tl_op_past_12m                100.000000\n",
      "pct_tl_nvr_dlq                    100.000000\n",
      "percent_bc_gt_75                  100.000000\n",
      "tot_hi_cred_lim                   100.000000\n",
      "total_bal_ex_mort                 100.000000\n",
      "total_bc_limit                    100.000000\n",
      "total_il_high_credit_limit        100.000000\n",
      "dtype: float64\n"
     ]
    },
    {
     "data": {
      "text/plain": [
       "58"
      ]
     },
     "execution_count": 9,
     "metadata": {},
     "output_type": "execute_result"
    }
   ],
   "source": [
    "toremove = missingdata_percentage[missingdata_percentage>25]\n",
    "print(toremove)\n",
    "len(toremove)"
   ]
  },
  {
   "cell_type": "code",
   "execution_count": 10,
   "metadata": {},
   "outputs": [
    {
     "data": {
      "text/plain": [
       "id                                0\n",
       "member_id                         0\n",
       "loan_amnt                         0\n",
       "funded_amnt                       0\n",
       "funded_amnt_inv                   0\n",
       "                              ...  \n",
       "tax_liens                        39\n",
       "tot_hi_cred_lim               39717\n",
       "total_bal_ex_mort             39717\n",
       "total_bc_limit                39717\n",
       "total_il_high_credit_limit    39717\n",
       "Length: 111, dtype: int64"
      ]
     },
     "execution_count": 10,
     "metadata": {},
     "output_type": "execute_result"
    }
   ],
   "source": [
    "data.isnull().sum()"
   ]
  },
  {
   "cell_type": "markdown",
   "metadata": {},
   "source": [
    "## Removal of Columns with more missing values (more than 25% of data)"
   ]
  },
  {
   "cell_type": "code",
   "execution_count": 11,
   "metadata": {},
   "outputs": [
    {
     "data": {
      "text/plain": [
       "id                              0.000000\n",
       "member_id                       0.000000\n",
       "loan_amnt                       0.000000\n",
       "funded_amnt                     0.000000\n",
       "funded_amnt_inv                 0.000000\n",
       "                                 ...    \n",
       "tax_liens                       0.098195\n",
       "tot_hi_cred_lim               100.000000\n",
       "total_bal_ex_mort             100.000000\n",
       "total_bc_limit                100.000000\n",
       "total_il_high_credit_limit    100.000000\n",
       "Length: 111, dtype: float64"
      ]
     },
     "execution_count": 11,
     "metadata": {},
     "output_type": "execute_result"
    }
   ],
   "source": [
    "null_percentage=(data.isnull().sum()/data.shape[0])*100\n",
    "null_percentage"
   ]
  },
  {
   "cell_type": "code",
   "execution_count": 12,
   "metadata": {},
   "outputs": [
    {
     "name": "stdout",
     "output_type": "stream",
     "text": [
      "Index(['desc', 'mths_since_last_delinq', 'mths_since_last_record',\n",
      "       'next_pymnt_d', 'mths_since_last_major_derog', 'annual_inc_joint',\n",
      "       'dti_joint', 'verification_status_joint', 'tot_coll_amt', 'tot_cur_bal',\n",
      "       'open_acc_6m', 'open_il_6m', 'open_il_12m', 'open_il_24m',\n",
      "       'mths_since_rcnt_il', 'total_bal_il', 'il_util', 'open_rv_12m',\n",
      "       'open_rv_24m', 'max_bal_bc', 'all_util', 'total_rev_hi_lim', 'inq_fi',\n",
      "       'total_cu_tl', 'inq_last_12m', 'acc_open_past_24mths', 'avg_cur_bal',\n",
      "       'bc_open_to_buy', 'bc_util', 'mo_sin_old_il_acct',\n",
      "       'mo_sin_old_rev_tl_op', 'mo_sin_rcnt_rev_tl_op', 'mo_sin_rcnt_tl',\n",
      "       'mort_acc', 'mths_since_recent_bc', 'mths_since_recent_bc_dlq',\n",
      "       'mths_since_recent_inq', 'mths_since_recent_revol_delinq',\n",
      "       'num_accts_ever_120_pd', 'num_actv_bc_tl', 'num_actv_rev_tl',\n",
      "       'num_bc_sats', 'num_bc_tl', 'num_il_tl', 'num_op_rev_tl',\n",
      "       'num_rev_accts', 'num_rev_tl_bal_gt_0', 'num_sats', 'num_tl_120dpd_2m',\n",
      "       'num_tl_30dpd', 'num_tl_90g_dpd_24m', 'num_tl_op_past_12m',\n",
      "       'pct_tl_nvr_dlq', 'percent_bc_gt_75', 'tot_hi_cred_lim',\n",
      "       'total_bal_ex_mort', 'total_bc_limit', 'total_il_high_credit_limit'],\n",
      "      dtype='object')\n",
      "\n",
      "Total No.of Columns with missing values greater than 25% = 58\n"
     ]
    }
   ],
   "source": [
    "col_to_drop=null_percentage[null_percentage>25].keys()\n",
    "print(col_to_drop)\n",
    "print('\\nTotal No.of Columns with missing values greater than 25% =', len(col_to_drop))"
   ]
  },
  {
   "cell_type": "code",
   "execution_count": 13,
   "metadata": {},
   "outputs": [],
   "source": [
    "data2=data.drop(col_to_drop, axis =1)"
   ]
  },
  {
   "cell_type": "code",
   "execution_count": 14,
   "metadata": {},
   "outputs": [
    {
     "name": "stdout",
     "output_type": "stream",
     "text": [
      "            id  member_id  loan_amnt  funded_amnt  funded_amnt_inv  \\\n",
      "0      1077501    1296599       5000         5000           4975.0   \n",
      "1      1077430    1314167       2500         2500           2500.0   \n",
      "2      1077175    1313524       2400         2400           2400.0   \n",
      "3      1076863    1277178      10000        10000          10000.0   \n",
      "4      1075358    1311748       3000         3000           3000.0   \n",
      "...        ...        ...        ...          ...              ...   \n",
      "39712    92187      92174       2500         2500           1075.0   \n",
      "39713    90665      90607       8500         8500            875.0   \n",
      "39714    90395      90390       5000         5000           1325.0   \n",
      "39715    90376      89243       5000         5000            650.0   \n",
      "39716    87023      86999       7500         7500            800.0   \n",
      "\n",
      "             term int_rate  installment grade sub_grade  ... last_pymnt_amnt  \\\n",
      "0       36 months   10.65%       162.87     B        B2  ...          171.62   \n",
      "1       60 months   15.27%        59.83     C        C4  ...          119.66   \n",
      "2       36 months   15.96%        84.33     C        C5  ...          649.91   \n",
      "3       36 months   13.49%       339.31     C        C1  ...          357.48   \n",
      "4       60 months   12.69%        67.79     B        B5  ...           67.79   \n",
      "...           ...      ...          ...   ...       ...  ...             ...   \n",
      "39712   36 months    8.07%        78.42     A        A4  ...           80.90   \n",
      "39713   36 months   10.28%       275.38     C        C1  ...          281.94   \n",
      "39714   36 months    8.07%       156.84     A        A4  ...            0.00   \n",
      "39715   36 months    7.43%       155.38     A        A2  ...            0.00   \n",
      "39716   36 months   13.75%       255.43     E        E2  ...          256.59   \n",
      "\n",
      "      last_credit_pull_d collections_12_mths_ex_med  policy_code  \\\n",
      "0                 May-16                        0.0            1   \n",
      "1                 Sep-13                        0.0            1   \n",
      "2                 May-16                        0.0            1   \n",
      "3                 Apr-16                        0.0            1   \n",
      "4                 May-16                        0.0            1   \n",
      "...                  ...                        ...          ...   \n",
      "39712             Jun-10                        NaN            1   \n",
      "39713             Jul-10                        NaN            1   \n",
      "39714             Jun-07                        NaN            1   \n",
      "39715             Jun-07                        NaN            1   \n",
      "39716             Jun-10                        NaN            1   \n",
      "\n",
      "      application_type acc_now_delinq chargeoff_within_12_mths delinq_amnt  \\\n",
      "0           INDIVIDUAL              0                      0.0           0   \n",
      "1           INDIVIDUAL              0                      0.0           0   \n",
      "2           INDIVIDUAL              0                      0.0           0   \n",
      "3           INDIVIDUAL              0                      0.0           0   \n",
      "4           INDIVIDUAL              0                      0.0           0   \n",
      "...                ...            ...                      ...         ...   \n",
      "39712       INDIVIDUAL              0                      NaN           0   \n",
      "39713       INDIVIDUAL              0                      NaN           0   \n",
      "39714       INDIVIDUAL              0                      NaN           0   \n",
      "39715       INDIVIDUAL              0                      NaN           0   \n",
      "39716       INDIVIDUAL              0                      NaN           0   \n",
      "\n",
      "      pub_rec_bankruptcies tax_liens  \n",
      "0                      0.0       0.0  \n",
      "1                      0.0       0.0  \n",
      "2                      0.0       0.0  \n",
      "3                      0.0       0.0  \n",
      "4                      0.0       0.0  \n",
      "...                    ...       ...  \n",
      "39712                  NaN       NaN  \n",
      "39713                  NaN       NaN  \n",
      "39714                  NaN       NaN  \n",
      "39715                  NaN       NaN  \n",
      "39716                  NaN       NaN  \n",
      "\n",
      "[39717 rows x 53 columns]\n"
     ]
    }
   ],
   "source": [
    "print(data2)"
   ]
  },
  {
   "cell_type": "code",
   "execution_count": 15,
   "metadata": {},
   "outputs": [
    {
     "data": {
      "text/plain": [
       "id                            0.000000\n",
       "member_id                     0.000000\n",
       "loan_amnt                     0.000000\n",
       "funded_amnt                   0.000000\n",
       "funded_amnt_inv               0.000000\n",
       "term                          0.000000\n",
       "int_rate                      0.000000\n",
       "installment                   0.000000\n",
       "grade                         0.000000\n",
       "sub_grade                     0.000000\n",
       "emp_title                     6.191303\n",
       "emp_length                    2.706650\n",
       "home_ownership                0.000000\n",
       "annual_inc                    0.000000\n",
       "verification_status           0.000000\n",
       "issue_d                       0.000000\n",
       "loan_status                   0.000000\n",
       "pymnt_plan                    0.000000\n",
       "url                           0.000000\n",
       "purpose                       0.000000\n",
       "title                         0.027696\n",
       "zip_code                      0.000000\n",
       "addr_state                    0.000000\n",
       "dti                           0.000000\n",
       "delinq_2yrs                   0.000000\n",
       "earliest_cr_line              0.000000\n",
       "inq_last_6mths                0.000000\n",
       "open_acc                      0.000000\n",
       "pub_rec                       0.000000\n",
       "revol_bal                     0.000000\n",
       "revol_util                    0.125891\n",
       "total_acc                     0.000000\n",
       "initial_list_status           0.000000\n",
       "out_prncp                     0.000000\n",
       "out_prncp_inv                 0.000000\n",
       "total_pymnt                   0.000000\n",
       "total_pymnt_inv               0.000000\n",
       "total_rec_prncp               0.000000\n",
       "total_rec_int                 0.000000\n",
       "total_rec_late_fee            0.000000\n",
       "recoveries                    0.000000\n",
       "collection_recovery_fee       0.000000\n",
       "last_pymnt_d                  0.178765\n",
       "last_pymnt_amnt               0.000000\n",
       "last_credit_pull_d            0.005036\n",
       "collections_12_mths_ex_med    0.140998\n",
       "policy_code                   0.000000\n",
       "application_type              0.000000\n",
       "acc_now_delinq                0.000000\n",
       "chargeoff_within_12_mths      0.140998\n",
       "delinq_amnt                   0.000000\n",
       "pub_rec_bankruptcies          1.754916\n",
       "tax_liens                     0.098195\n",
       "dtype: float64"
      ]
     },
     "execution_count": 15,
     "metadata": {},
     "output_type": "execute_result"
    }
   ],
   "source": [
    "null_percentage=(data2.isnull().sum()/data2.shape[0])*100\n",
    "null_percentage"
   ]
  },
  {
   "cell_type": "code",
   "execution_count": 16,
   "metadata": {},
   "outputs": [],
   "source": [
    "data3=data2.dropna()"
   ]
  },
  {
   "cell_type": "code",
   "execution_count": 17,
   "metadata": {},
   "outputs": [
    {
     "data": {
      "text/plain": [
       "id                            0.0\n",
       "member_id                     0.0\n",
       "loan_amnt                     0.0\n",
       "funded_amnt                   0.0\n",
       "funded_amnt_inv               0.0\n",
       "term                          0.0\n",
       "int_rate                      0.0\n",
       "installment                   0.0\n",
       "grade                         0.0\n",
       "sub_grade                     0.0\n",
       "emp_title                     0.0\n",
       "emp_length                    0.0\n",
       "home_ownership                0.0\n",
       "annual_inc                    0.0\n",
       "verification_status           0.0\n",
       "issue_d                       0.0\n",
       "loan_status                   0.0\n",
       "pymnt_plan                    0.0\n",
       "url                           0.0\n",
       "purpose                       0.0\n",
       "title                         0.0\n",
       "zip_code                      0.0\n",
       "addr_state                    0.0\n",
       "dti                           0.0\n",
       "delinq_2yrs                   0.0\n",
       "earliest_cr_line              0.0\n",
       "inq_last_6mths                0.0\n",
       "open_acc                      0.0\n",
       "pub_rec                       0.0\n",
       "revol_bal                     0.0\n",
       "revol_util                    0.0\n",
       "total_acc                     0.0\n",
       "initial_list_status           0.0\n",
       "out_prncp                     0.0\n",
       "out_prncp_inv                 0.0\n",
       "total_pymnt                   0.0\n",
       "total_pymnt_inv               0.0\n",
       "total_rec_prncp               0.0\n",
       "total_rec_int                 0.0\n",
       "total_rec_late_fee            0.0\n",
       "recoveries                    0.0\n",
       "collection_recovery_fee       0.0\n",
       "last_pymnt_d                  0.0\n",
       "last_pymnt_amnt               0.0\n",
       "last_credit_pull_d            0.0\n",
       "collections_12_mths_ex_med    0.0\n",
       "policy_code                   0.0\n",
       "application_type              0.0\n",
       "acc_now_delinq                0.0\n",
       "chargeoff_within_12_mths      0.0\n",
       "delinq_amnt                   0.0\n",
       "pub_rec_bankruptcies          0.0\n",
       "tax_liens                     0.0\n",
       "dtype: float64"
      ]
     },
     "execution_count": 17,
     "metadata": {},
     "output_type": "execute_result"
    }
   ],
   "source": [
    "null_percentage3=(data3.isnull().sum()/data3.shape[0])*100\n",
    "null_percentage3"
   ]
  },
  {
   "cell_type": "code",
   "execution_count": 18,
   "metadata": {},
   "outputs": [
    {
     "name": "stderr",
     "output_type": "stream",
     "text": [
      "<ipython-input-18-20f8856250cc>:1: SettingWithCopyWarning: \n",
      "A value is trying to be set on a copy of a slice from a DataFrame.\n",
      "Try using .loc[row_indexer,col_indexer] = value instead\n",
      "\n",
      "See the caveats in the documentation: https://pandas.pydata.org/pandas-docs/stable/user_guide/indexing.html#returning-a-view-versus-a-copy\n",
      "  data3['int_rate']=data3['int_rate'].str.rstrip(\"%\").astype(float)\n"
     ]
    }
   ],
   "source": [
    "data3['int_rate']=data3['int_rate'].str.rstrip(\"%\").astype(float)"
   ]
  },
  {
   "cell_type": "code",
   "execution_count": 19,
   "metadata": {},
   "outputs": [
    {
     "name": "stderr",
     "output_type": "stream",
     "text": [
      "<ipython-input-19-647769d43b45>:1: SettingWithCopyWarning: \n",
      "A value is trying to be set on a copy of a slice from a DataFrame.\n",
      "Try using .loc[row_indexer,col_indexer] = value instead\n",
      "\n",
      "See the caveats in the documentation: https://pandas.pydata.org/pandas-docs/stable/user_guide/indexing.html#returning-a-view-versus-a-copy\n",
      "  data3['revol_util']=data3['revol_util'].str.rstrip(\"%\").astype(float)\n"
     ]
    }
   ],
   "source": [
    "data3['revol_util']=data3['revol_util'].str.rstrip(\"%\").astype(float)"
   ]
  },
  {
   "cell_type": "code",
   "execution_count": 20,
   "metadata": {},
   "outputs": [
    {
     "name": "stdout",
     "output_type": "stream",
     "text": [
      "            id  member_id  loan_amnt  funded_amnt  funded_amnt_inv  \\\n",
      "1      1077430    1314167       2500         2500          2500.00   \n",
      "3      1076863    1277178      10000        10000         10000.00   \n",
      "4      1075358    1311748       3000         3000          3000.00   \n",
      "5      1075269    1311441       5000         5000          5000.00   \n",
      "6      1069639    1304742       7000         7000          7000.00   \n",
      "...        ...        ...        ...          ...              ...   \n",
      "39433   200600     200597       7500         7500          1599.78   \n",
      "39475   186572     186568      12000        12000           725.00   \n",
      "39551   158706     158450      12375        12375          1000.00   \n",
      "39562   154154     151536       4800         4800          1100.00   \n",
      "39623   132892     132889       9000         9000           700.00   \n",
      "\n",
      "             term  int_rate  installment grade sub_grade  ... last_pymnt_amnt  \\\n",
      "1       60 months     15.27        59.83     C        C4  ...          119.66   \n",
      "3       36 months     13.49       339.31     C        C1  ...          357.48   \n",
      "4       60 months     12.69        67.79     B        B5  ...           67.79   \n",
      "5       36 months      7.90       156.46     A        A4  ...          161.03   \n",
      "6       60 months     15.96       170.08     C        C5  ...         1313.76   \n",
      "...           ...       ...          ...   ...       ...  ...             ...   \n",
      "39433   36 months      9.83       241.41     B        B3  ...          247.31   \n",
      "39475   36 months      9.01       381.66     B        B2  ...        11202.55   \n",
      "39551   36 months     10.91       404.62     C        C3  ...         4259.11   \n",
      "39562   36 months     10.28       155.52     C        C1  ...         3891.08   \n",
      "39623   36 months     12.49       301.04     D        D3  ...          301.05   \n",
      "\n",
      "      last_credit_pull_d collections_12_mths_ex_med  policy_code  \\\n",
      "1                 Sep-13                        0.0            1   \n",
      "3                 Apr-16                        0.0            1   \n",
      "4                 May-16                        0.0            1   \n",
      "5                 Jan-16                        0.0            1   \n",
      "6                 May-16                        0.0            1   \n",
      "...                  ...                        ...          ...   \n",
      "39433             May-16                        0.0            1   \n",
      "39475             Oct-15                        0.0            1   \n",
      "39551             May-14                        0.0            1   \n",
      "39562             Aug-08                        0.0            1   \n",
      "39623             May-16                        0.0            1   \n",
      "\n",
      "      application_type acc_now_delinq chargeoff_within_12_mths delinq_amnt  \\\n",
      "1           INDIVIDUAL              0                      0.0           0   \n",
      "3           INDIVIDUAL              0                      0.0           0   \n",
      "4           INDIVIDUAL              0                      0.0           0   \n",
      "5           INDIVIDUAL              0                      0.0           0   \n",
      "6           INDIVIDUAL              0                      0.0           0   \n",
      "...                ...            ...                      ...         ...   \n",
      "39433       INDIVIDUAL              0                      0.0           0   \n",
      "39475       INDIVIDUAL              0                      0.0           0   \n",
      "39551       INDIVIDUAL              0                      0.0           0   \n",
      "39562       INDIVIDUAL              0                      0.0           0   \n",
      "39623       INDIVIDUAL              0                      0.0           0   \n",
      "\n",
      "      pub_rec_bankruptcies tax_liens  \n",
      "1                      0.0       0.0  \n",
      "3                      0.0       0.0  \n",
      "4                      0.0       0.0  \n",
      "5                      0.0       0.0  \n",
      "6                      0.0       0.0  \n",
      "...                    ...       ...  \n",
      "39433                  1.0       0.0  \n",
      "39475                  1.0       0.0  \n",
      "39551                  1.0       0.0  \n",
      "39562                  1.0       0.0  \n",
      "39623                  1.0       0.0  \n",
      "\n",
      "[36431 rows x 53 columns]\n"
     ]
    }
   ],
   "source": [
    "print(data3)"
   ]
  },
  {
   "cell_type": "code",
   "execution_count": 22,
   "metadata": {},
   "outputs": [],
   "source": [
    "data3.to_csv('data3.csv')"
   ]
  },
  {
   "cell_type": "markdown",
   "metadata": {},
   "source": [
    "## To identify the Numerical and Categorical variables in the columns"
   ]
  },
  {
   "cell_type": "code",
   "execution_count": 23,
   "metadata": {},
   "outputs": [
    {
     "name": "stdout",
     "output_type": "stream",
     "text": [
      "<class 'pandas.core.frame.DataFrame'>\n",
      "Int64Index: 36431 entries, 1 to 39623\n",
      "Data columns (total 53 columns):\n",
      " #   Column                      Non-Null Count  Dtype  \n",
      "---  ------                      --------------  -----  \n",
      " 0   id                          36431 non-null  int64  \n",
      " 1   member_id                   36431 non-null  int64  \n",
      " 2   loan_amnt                   36431 non-null  int64  \n",
      " 3   funded_amnt                 36431 non-null  int64  \n",
      " 4   funded_amnt_inv             36431 non-null  float64\n",
      " 5   term                        36431 non-null  object \n",
      " 6   int_rate                    36431 non-null  float64\n",
      " 7   installment                 36431 non-null  float64\n",
      " 8   grade                       36431 non-null  object \n",
      " 9   sub_grade                   36431 non-null  object \n",
      " 10  emp_title                   36431 non-null  object \n",
      " 11  emp_length                  36431 non-null  object \n",
      " 12  home_ownership              36431 non-null  object \n",
      " 13  annual_inc                  36431 non-null  float64\n",
      " 14  verification_status         36431 non-null  object \n",
      " 15  issue_d                     36431 non-null  object \n",
      " 16  loan_status                 36431 non-null  object \n",
      " 17  pymnt_plan                  36431 non-null  object \n",
      " 18  url                         36431 non-null  object \n",
      " 19  purpose                     36431 non-null  object \n",
      " 20  title                       36431 non-null  object \n",
      " 21  zip_code                    36431 non-null  object \n",
      " 22  addr_state                  36431 non-null  object \n",
      " 23  dti                         36431 non-null  float64\n",
      " 24  delinq_2yrs                 36431 non-null  int64  \n",
      " 25  earliest_cr_line            36431 non-null  object \n",
      " 26  inq_last_6mths              36431 non-null  int64  \n",
      " 27  open_acc                    36431 non-null  int64  \n",
      " 28  pub_rec                     36431 non-null  int64  \n",
      " 29  revol_bal                   36431 non-null  int64  \n",
      " 30  revol_util                  36431 non-null  float64\n",
      " 31  total_acc                   36431 non-null  int64  \n",
      " 32  initial_list_status         36431 non-null  object \n",
      " 33  out_prncp                   36431 non-null  float64\n",
      " 34  out_prncp_inv               36431 non-null  float64\n",
      " 35  total_pymnt                 36431 non-null  float64\n",
      " 36  total_pymnt_inv             36431 non-null  float64\n",
      " 37  total_rec_prncp             36431 non-null  float64\n",
      " 38  total_rec_int               36431 non-null  float64\n",
      " 39  total_rec_late_fee          36431 non-null  float64\n",
      " 40  recoveries                  36431 non-null  float64\n",
      " 41  collection_recovery_fee     36431 non-null  float64\n",
      " 42  last_pymnt_d                36431 non-null  object \n",
      " 43  last_pymnt_amnt             36431 non-null  float64\n",
      " 44  last_credit_pull_d          36431 non-null  object \n",
      " 45  collections_12_mths_ex_med  36431 non-null  float64\n",
      " 46  policy_code                 36431 non-null  int64  \n",
      " 47  application_type            36431 non-null  object \n",
      " 48  acc_now_delinq              36431 non-null  int64  \n",
      " 49  chargeoff_within_12_mths    36431 non-null  float64\n",
      " 50  delinq_amnt                 36431 non-null  int64  \n",
      " 51  pub_rec_bankruptcies        36431 non-null  float64\n",
      " 52  tax_liens                   36431 non-null  float64\n",
      "dtypes: float64(20), int64(13), object(20)\n",
      "memory usage: 15.0+ MB\n"
     ]
    }
   ],
   "source": [
    "data3.info()"
   ]
  },
  {
   "cell_type": "markdown",
   "metadata": {},
   "source": [
    "<font color=red>\n",
    "    \n",
    "#### Observations from the Dataset where missing values are removed:\n",
    "- The dataset contains 53 Columns and 36431 Rows\n",
    "- There are 33 numerical variables and 20 object datatypes\n",
    "</font>"
   ]
  },
  {
   "cell_type": "markdown",
   "metadata": {},
   "source": [
    "# <font color=green> 4. Exploratory Data Analysis </font>"
   ]
  },
  {
   "cell_type": "markdown",
   "metadata": {},
   "source": [
    "#### <font color=blue> Loan Status: Fully Paid vs. Default </font>"
   ]
  },
  {
   "cell_type": "code",
   "execution_count": 24,
   "metadata": {},
   "outputs": [
    {
     "data": {
      "image/png": "[encoded data removed]",
      "text/plain": [
       "<Figure size 432x288 with 1 Axes>"
      ]
     },
     "metadata": {
      "needs_background": "light"
     },
     "output_type": "display_data"
    }
   ],
   "source": [
    "ax = sns.countplot(x=data3['loan_status'])\n",
    "plt.rcParams[\"figure.figsize\"]=[6.00,6.00]\n",
    "plt.rcParams[\"figure.autolayout\"]=True \n",
    "total=len(data3['loan_status'])\n",
    "for p in ax.patches:\n",
    "    percentage = '{:.1f}'.format((100*p.get_height()/total))\n",
    "    x = p.get_x() + (p.get_width() - 0.5)\n",
    "    y = p.get_y() + (p.get_height()/2)\n",
    "    ax.annotate(percentage, (x,y))\n",
    "ax.set_title('Loan Status')\n",
    "ax.set_xlabel('Loan Status')\n",
    "ax.set_ylabel('Counts')\n",
    "plt.show()"
   ]
  },
  {
   "cell_type": "markdown",
   "metadata": {},
   "source": [
    "<font color=red>\n",
    " The Frequency Distribution plot on the column “Loan Status” clearly shows that the data is highly imbalanced. \n",
    "\n",
    "- 83.5 % loans are fully paid\n",
    "\n",
    "- Only 13.6 % loans are Charged Off\n",
    "    \n",
    "</font>\n"
   ]
  },
  {
   "cell_type": "markdown",
   "metadata": {},
   "source": [
    "#### <font color=blue> Loan Amount Values vs Loan Default  </font>"
   ]
  },
  {
   "cell_type": "code",
   "execution_count": 25,
   "metadata": {},
   "outputs": [
    {
     "data": {
      "image/png": "[encoded data removed]",
      "text/plain": [
       "<Figure size 360x360 with 1 Axes>"
      ]
     },
     "metadata": {},
     "output_type": "display_data"
    }
   ],
   "source": [
    "df = pd.DataFrame(data=data3,columns=['loan_amnt','funded_amnt','funded_amnt_inv'])\n",
    "sns.set(rc={'figure.figsize':(5,5)})\n",
    "sns.boxplot(x='variable',y='value',data=pd.melt(df))\n",
    "plt.xlabel('Amount')\n",
    "plt.ylabel('Value')\n",
    "plt.show()"
   ]
  },
  {
   "cell_type": "code",
   "execution_count": 26,
   "metadata": {},
   "outputs": [
    {
     "data": {
      "text/plain": [
       "<matplotlib.axes._subplots.AxesSubplot at 0x1df9da60d90>"
      ]
     },
     "execution_count": 26,
     "metadata": {},
     "output_type": "execute_result"
    },
    {
     "data": {
      "image/png": "[encoded data removed]",
      "text/plain": [
       "<Figure size 360x360 with 2 Axes>"
      ]
     },
     "metadata": {},
     "output_type": "display_data"
    }
   ],
   "source": [
    "# To find Coorelation between Loan Amount, Funded Amount and Funded Amount by Investors\n",
    "sns.heatmap(data3[['loan_amnt', 'funded_amnt', 'funded_amnt_inv' ]].corr(), cmap='YlGnBu', annot =True)"
   ]
  },
  {
   "cell_type": "markdown",
   "metadata": {},
   "source": [
    "<font color=red>\n",
    "--> From the Grouped Box plot, the distribution of values of 3 variables namely, Loan Amount, Funded Amount and the Funded Amount by the Investors are almost similar. \n",
    "\n",
    "--> Also these 3 variables are highly correlated as seen in the Pearson Correlation Matrix.\n",
    "\n",
    "--> So, for the further analysis only the column \"Loan Amount\" is considered.\n",
    "    \n",
    "</font>\n"
   ]
  },
  {
   "cell_type": "code",
   "execution_count": 27,
   "metadata": {},
   "outputs": [
    {
     "data": {
      "image/png": "[encoded data removed]",
      "text/plain": [
       "<Figure size 360x360 with 1 Axes>"
      ]
     },
     "metadata": {},
     "output_type": "display_data"
    }
   ],
   "source": [
    "data3['loan_amnt'].hist(bins=14)\n",
    "plt.xlabel(\"Loan Amount\")\n",
    "plt.ylabel(\"Frequency\")\n",
    "plt.show()"
   ]
  },
  {
   "cell_type": "code",
   "execution_count": 28,
   "metadata": {},
   "outputs": [
    {
     "data": {
      "image/png": "[encoded data removed]",
      "text/plain": [
       "<Figure size 360x360 with 1 Axes>"
      ]
     },
     "metadata": {},
     "output_type": "display_data"
    }
   ],
   "source": [
    "sns.boxplot(data = data3, x = 'loan_status', y = 'loan_amnt')\n",
    "plt.xlabel('Loan Status')\n",
    "plt.ylabel('Loan Amount')\n",
    "plt.show()"
   ]
  },
  {
   "cell_type": "markdown",
   "metadata": {},
   "source": [
    "<font color=red>\n",
    "Although the median of the Loan Amount for Fully Paid and Charged Off are comparable,\n",
    "when loan amount exceeds 30000 more likely it could be default.\n",
    "</font>\n"
   ]
  },
  {
   "cell_type": "markdown",
   "metadata": {},
   "source": [
    "#### <font color=blue> Loan Grading & Interest Rate vs. Loan Default  </font>"
   ]
  },
  {
   "cell_type": "code",
   "execution_count": 29,
   "metadata": {},
   "outputs": [
    {
     "data": {
      "image/png": "[encoded data removed]",
      "text/plain": [
       "<Figure size 360x360 with 1 Axes>"
      ]
     },
     "metadata": {},
     "output_type": "display_data"
    }
   ],
   "source": [
    "sns.boxplot(data = data3, x = 'loan_status', y = 'int_rate')\n",
    "plt.xlabel('Loan Status')\n",
    "plt.ylabel('Interest Rate on the Loan')\n",
    "plt.show()"
   ]
  },
  {
   "cell_type": "code",
   "execution_count": 30,
   "metadata": {},
   "outputs": [
    {
     "data": {
      "text/plain": [
       "Text(0, 0.5, 'Percentage')"
      ]
     },
     "execution_count": 30,
     "metadata": {},
     "output_type": "execute_result"
    },
    {
     "data": {
      "image/png": "[encoded data removed]",
      "text/plain": [
       "<Figure size 720x720 with 1 Axes>"
      ]
     },
     "metadata": {},
     "output_type": "display_data"
    }
   ],
   "source": [
    "ct2graph = data3.groupby('grade').loan_status.value_counts(normalize=True).mul(100).round(1).unstack().plot(kind='bar', figsize = ( 10 , 10 ),yticks=[5,10,15,20,25,30,35,40,45,50,55,60,65,70,75,80,85,90,95,100], fontsize = 10)\n",
    "ct2graph.grid('on', which='minor', axis='y' )\n",
    "ct2graph.grid('on', which='major', axis='y' )\n",
    "ct2graph.set_title('Grouping Loan Status on basis of Grade',fontsize = 15)\n",
    "ct2graph.set_xlabel(\"Grade\",fontsize = 15)\n",
    "ct2graph.set_ylabel(\"Percentage\",fontsize = 15)"
   ]
  },
  {
   "cell_type": "code",
   "execution_count": 31,
   "metadata": {},
   "outputs": [
    {
     "data": {
      "image/png": "[encoded data removed]",
      "text/plain": [
       "<Figure size 360x360 with 1 Axes>"
      ]
     },
     "metadata": {},
     "output_type": "display_data"
    }
   ],
   "source": [
    "sns.boxplot(data = data3, x = 'grade', y = 'int_rate',hue = 'loan_status',order=['A', 'B', 'C', 'D','E','F','G'])\n",
    "plt.xlabel('Grade')\n",
    "plt.ylabel('Interest Rate on the Loan')\n",
    "plt.show()"
   ]
  },
  {
   "cell_type": "code",
   "execution_count": 32,
   "metadata": {},
   "outputs": [
    {
     "name": "stdout",
     "output_type": "stream",
     "text": [
      "\n",
      " Cross Table Comparing Loan Status (in Number of Percentage) against Loan Grades\n"
     ]
    },
    {
     "data": {
      "text/html": [
       "<style  type=\"text/css\" >\n",
       "</style><table id=\"T_9abf794c_c336_11ed_a533_f8cab85fdfa6\" ><thead>    <tr>        <th class=\"index_name level0\" >grade</th>        <th class=\"col_heading level0 col0\" >A</th>        <th class=\"col_heading level0 col1\" >B</th>        <th class=\"col_heading level0 col2\" >C</th>        <th class=\"col_heading level0 col3\" >D</th>        <th class=\"col_heading level0 col4\" >E</th>        <th class=\"col_heading level0 col5\" >F</th>        <th class=\"col_heading level0 col6\" >G</th>        <th class=\"col_heading level0 col7\" >Subtotals</th>    </tr>    <tr>        <th class=\"index_name level0\" >loan_status</th>        <th class=\"blank\" ></th>        <th class=\"blank\" ></th>        <th class=\"blank\" ></th>        <th class=\"blank\" ></th>        <th class=\"blank\" ></th>        <th class=\"blank\" ></th>        <th class=\"blank\" ></th>        <th class=\"blank\" ></th>    </tr></thead><tbody>\n",
       "                <tr>\n",
       "                        <th id=\"T_9abf794c_c336_11ed_a533_f8cab85fdfa6level0_row0\" class=\"row_heading level0 row0\" >Charged Off</th>\n",
       "                        <td id=\"T_9abf794c_c336_11ed_a533_f8cab85fdfa6row0_col0\" class=\"data row0 col0\" >5.59%</td>\n",
       "                        <td id=\"T_9abf794c_c336_11ed_a533_f8cab85fdfa6row0_col1\" class=\"data row0 col1\" >11.35%</td>\n",
       "                        <td id=\"T_9abf794c_c336_11ed_a533_f8cab85fdfa6row0_col2\" class=\"data row0 col2\" >15.73%</td>\n",
       "                        <td id=\"T_9abf794c_c336_11ed_a533_f8cab85fdfa6row0_col3\" class=\"data row0 col3\" >20.11%</td>\n",
       "                        <td id=\"T_9abf794c_c336_11ed_a533_f8cab85fdfa6row0_col4\" class=\"data row0 col4\" >24.45%</td>\n",
       "                        <td id=\"T_9abf794c_c336_11ed_a533_f8cab85fdfa6row0_col5\" class=\"data row0 col5\" >29.51%</td>\n",
       "                        <td id=\"T_9abf794c_c336_11ed_a533_f8cab85fdfa6row0_col6\" class=\"data row0 col6\" >31.21%</td>\n",
       "                        <td id=\"T_9abf794c_c336_11ed_a533_f8cab85fdfa6row0_col7\" class=\"data row0 col7\" >13.57%</td>\n",
       "            </tr>\n",
       "            <tr>\n",
       "                        <th id=\"T_9abf794c_c336_11ed_a533_f8cab85fdfa6level0_row1\" class=\"row_heading level0 row1\" >Current</th>\n",
       "                        <td id=\"T_9abf794c_c336_11ed_a533_f8cab85fdfa6row1_col0\" class=\"data row1 col0\" >0.38%</td>\n",
       "                        <td id=\"T_9abf794c_c336_11ed_a533_f8cab85fdfa6row1_col1\" class=\"data row1 col1\" >2.87%</td>\n",
       "                        <td id=\"T_9abf794c_c336_11ed_a533_f8cab85fdfa6row1_col2\" class=\"data row1 col2\" >3.36%</td>\n",
       "                        <td id=\"T_9abf794c_c336_11ed_a533_f8cab85fdfa6row1_col3\" class=\"data row1 col3\" >4.35%</td>\n",
       "                        <td id=\"T_9abf794c_c336_11ed_a533_f8cab85fdfa6row1_col4\" class=\"data row1 col4\" >6.38%</td>\n",
       "                        <td id=\"T_9abf794c_c336_11ed_a533_f8cab85fdfa6row1_col5\" class=\"data row1 col5\" >6.91%</td>\n",
       "                        <td id=\"T_9abf794c_c336_11ed_a533_f8cab85fdfa6row1_col6\" class=\"data row1 col6\" >5.37%</td>\n",
       "                        <td id=\"T_9abf794c_c336_11ed_a533_f8cab85fdfa6row1_col7\" class=\"data row1 col7\" >2.93%</td>\n",
       "            </tr>\n",
       "            <tr>\n",
       "                        <th id=\"T_9abf794c_c336_11ed_a533_f8cab85fdfa6level0_row2\" class=\"row_heading level0 row2\" >Fully Paid</th>\n",
       "                        <td id=\"T_9abf794c_c336_11ed_a533_f8cab85fdfa6row2_col0\" class=\"data row2 col0\" >94.03%</td>\n",
       "                        <td id=\"T_9abf794c_c336_11ed_a533_f8cab85fdfa6row2_col1\" class=\"data row2 col1\" >85.77%</td>\n",
       "                        <td id=\"T_9abf794c_c336_11ed_a533_f8cab85fdfa6row2_col2\" class=\"data row2 col2\" >80.90%</td>\n",
       "                        <td id=\"T_9abf794c_c336_11ed_a533_f8cab85fdfa6row2_col3\" class=\"data row2 col3\" >75.54%</td>\n",
       "                        <td id=\"T_9abf794c_c336_11ed_a533_f8cab85fdfa6row2_col4\" class=\"data row2 col4\" >69.17%</td>\n",
       "                        <td id=\"T_9abf794c_c336_11ed_a533_f8cab85fdfa6row2_col5\" class=\"data row2 col5\" >63.57%</td>\n",
       "                        <td id=\"T_9abf794c_c336_11ed_a533_f8cab85fdfa6row2_col6\" class=\"data row2 col6\" >63.42%</td>\n",
       "                        <td id=\"T_9abf794c_c336_11ed_a533_f8cab85fdfa6row2_col7\" class=\"data row2 col7\" >83.51%</td>\n",
       "            </tr>\n",
       "    </tbody></table>"
      ],
      "text/plain": [
       "<pandas.io.formats.style.Styler at 0x1dfa39ef6d0>"
      ]
     },
     "execution_count": 32,
     "metadata": {},
     "output_type": "execute_result"
    }
   ],
   "source": [
    "ct1 = pd.crosstab(data3.loan_status, data3.grade, margins = True, margins_name = 'Subtotals', normalize = 'columns').style.format('{:.2%}')\n",
    "print(\"\\n Cross Table Comparing Loan Status (in Number of Percentage) against Loan Grades\")\n",
    "ct1"
   ]
  },
  {
   "cell_type": "markdown",
   "metadata": {},
   "source": [
    "<font color=red>\n",
    "At interest rates higher than 20 - 22.5 %, more the chances for loan default.\n",
    "Loan grades F and G are associated with risky applicants,\n",
    "where interest rates are also high and as per the loan grading more percentage of loan defaults are at grades F and G.\n",
    "</font>\n"
   ]
  },
  {
   "cell_type": "markdown",
   "metadata": {},
   "source": [
    "#### <font color=blue> Term vs. Loan Default  </font>"
   ]
  },
  {
   "cell_type": "code",
   "execution_count": 33,
   "metadata": {},
   "outputs": [
    {
     "name": "stdout",
     "output_type": "stream",
     "text": [
      "\n",
      " Cross Table Comparing Loan Status (in Number of Percentage) against Loan Term Period\n"
     ]
    },
    {
     "data": {
      "text/html": [
       "<style  type=\"text/css\" >\n",
       "</style><table id=\"T_9acf7d45_c336_11ed_964a_f8cab85fdfa6\" ><thead>    <tr>        <th class=\"index_name level0\" >term</th>        <th class=\"col_heading level0 col0\" > 36 months</th>        <th class=\"col_heading level0 col1\" > 60 months</th>    </tr>    <tr>        <th class=\"index_name level0\" >loan_status</th>        <th class=\"blank\" ></th>        <th class=\"blank\" ></th>    </tr></thead><tbody>\n",
       "                <tr>\n",
       "                        <th id=\"T_9acf7d45_c336_11ed_964a_f8cab85fdfa6level0_row0\" class=\"row_heading level0 row0\" >Charged Off</th>\n",
       "                        <td id=\"T_9acf7d45_c336_11ed_964a_f8cab85fdfa6row0_col0\" class=\"data row0 col0\" >10.35%</td>\n",
       "                        <td id=\"T_9acf7d45_c336_11ed_964a_f8cab85fdfa6row0_col1\" class=\"data row0 col1\" >22.01%</td>\n",
       "            </tr>\n",
       "            <tr>\n",
       "                        <th id=\"T_9acf7d45_c336_11ed_964a_f8cab85fdfa6level0_row1\" class=\"row_heading level0 row1\" >Current</th>\n",
       "                        <td id=\"T_9acf7d45_c336_11ed_964a_f8cab85fdfa6row1_col0\" class=\"data row1 col0\" >0.00%</td>\n",
       "                        <td id=\"T_9acf7d45_c336_11ed_964a_f8cab85fdfa6row1_col1\" class=\"data row1 col1\" >10.60%</td>\n",
       "            </tr>\n",
       "            <tr>\n",
       "                        <th id=\"T_9acf7d45_c336_11ed_964a_f8cab85fdfa6level0_row2\" class=\"row_heading level0 row2\" >Fully Paid</th>\n",
       "                        <td id=\"T_9acf7d45_c336_11ed_964a_f8cab85fdfa6row2_col0\" class=\"data row2 col0\" >89.65%</td>\n",
       "                        <td id=\"T_9acf7d45_c336_11ed_964a_f8cab85fdfa6row2_col1\" class=\"data row2 col1\" >67.39%</td>\n",
       "            </tr>\n",
       "    </tbody></table>"
      ],
      "text/plain": [
       "<pandas.io.formats.style.Styler at 0x1dfa3af3f10>"
      ]
     },
     "execution_count": 33,
     "metadata": {},
     "output_type": "execute_result"
    }
   ],
   "source": [
    "ct2 = pd.crosstab(data3.loan_status, data3.term, normalize = 'columns').style.format('{:.2%}')\n",
    "print(\"\\n Cross Table Comparing Loan Status (in Number of Percentage) against Loan Term Period\")\n",
    "ct2"
   ]
  },
  {
   "cell_type": "code",
   "execution_count": 34,
   "metadata": {},
   "outputs": [
    {
     "data": {
      "text/plain": [
       "Text(0, 0.5, 'Percentage')"
      ]
     },
     "execution_count": 34,
     "metadata": {},
     "output_type": "execute_result"
    },
    {
     "data": {
      "image/png": "[encoded data removed]",
      "text/plain": [
       "<Figure size 720x720 with 1 Axes>"
      ]
     },
     "metadata": {},
     "output_type": "display_data"
    }
   ],
   "source": [
    "ct1graph = data3.groupby('term').loan_status.value_counts(normalize=True).mul(100).round(1).unstack().plot(kind='bar', figsize = ( 10 , 10 ),yticks=[5,10,15,20,25,30,35,40,45,50,55,60,65,70,75,80,85,90,95,100], fontsize = 10)\n",
    "ct1graph.grid('on', which='minor', axis='y' )\n",
    "ct1graph.grid('on', which='major', axis='y' )\n",
    "ct1graph.set_title('Grouping Loan Status on basis of Term',fontsize = 15)\n",
    "ct1graph.set_xlabel(\"Term\",fontsize = 15)\n",
    "ct1graph.set_ylabel(\"Percentage\",fontsize = 15)"
   ]
  },
  {
   "cell_type": "code",
   "execution_count": 35,
   "metadata": {},
   "outputs": [
    {
     "data": {
      "image/png": "[encoded data removed]",
      "text/plain": [
       "<Figure size 360x360 with 1 Axes>"
      ]
     },
     "metadata": {},
     "output_type": "display_data"
    }
   ],
   "source": [
    "sns.boxplot(data = data3, x = 'term', y = 'int_rate',hue = 'loan_status')\n",
    "plt.xlabel('Term')\n",
    "plt.ylabel('Interest Rate on the Loan')\n",
    "plt.show()"
   ]
  },
  {
   "cell_type": "code",
   "execution_count": 36,
   "metadata": {},
   "outputs": [
    {
     "data": {
      "image/png": "[encoded data removed]",
      "text/plain": [
       "<Figure size 360x360 with 1 Axes>"
      ]
     },
     "metadata": {},
     "output_type": "display_data"
    }
   ],
   "source": [
    "sns.boxplot(data = data3, x = 'term', y = 'loan_amnt',hue = 'loan_status')\n",
    "plt.xlabel('Term')\n",
    "plt.ylabel('Loan Amount')\n",
    "plt.show()"
   ]
  },
  {
   "cell_type": "markdown",
   "metadata": {},
   "source": [
    "<font color=red>"
   ]
  },
  {
   "cell_type": "markdown",
   "metadata": {},
   "source": [
    "<font color=red>"
   ]
  },
  {
   "cell_type": "markdown",
   "metadata": {},
   "source": [
    "<font color=red>\n",
    "\n",
    "- Loans with 60 months term are more likely to default\n",
    "- Loans with 60 months term are with high interest rates\n",
    "- Loan amount of the 60 month term period are higher than that of 36 months\n",
    "</font>"
   ]
  },
  {
   "cell_type": "markdown",
   "metadata": {},
   "source": [
    "#### <font color=blue> Annual Income of the borrower vs. Loan Default  </font>"
   ]
  },
  {
   "cell_type": "code",
   "execution_count": 37,
   "metadata": {},
   "outputs": [
    {
     "data": {
      "image/png": "[encoded data removed]",
      "text/plain": [
       "<Figure size 360x360 with 1 Axes>"
      ]
     },
     "metadata": {},
     "output_type": "display_data"
    }
   ],
   "source": [
    "sns.boxplot(data = data3, x = 'loan_status', y = 'annual_inc')\n",
    "plt.xlabel('Loan Status')\n",
    "plt.ylabel('Annual Income')\n",
    "plt.ylim(0,300000)\n",
    "plt.show()"
   ]
  },
  {
   "cell_type": "code",
   "execution_count": 38,
   "metadata": {},
   "outputs": [
    {
     "data": {
      "image/png": "[encoded data removed]",
      "text/plain": [
       "<Figure size 360x360 with 1 Axes>"
      ]
     },
     "metadata": {},
     "output_type": "display_data"
    }
   ],
   "source": [
    "sns.boxplot(data = data3, x = 'loan_status', y = 'dti')\n",
    "plt.xlabel('Loan Status')\n",
    "plt.ylabel('Annual Income')\n",
    "plt.ylim(0,40)\n",
    "plt.show()"
   ]
  },
  {
   "cell_type": "markdown",
   "metadata": {},
   "source": [
    "<font color=red>\n",
    "\n",
    "- From the Grouped Barplot, it reveals no significant trend observed in Loan Status categories for Annual Income and Debt to Income Ratio \n",
    "</font>"
   ]
  },
  {
   "cell_type": "markdown",
   "metadata": {},
   "source": [
    "#### <font color=blue> Home Ownership of the borrower vs. Loan Default  </font>"
   ]
  },
  {
   "cell_type": "code",
   "execution_count": 39,
   "metadata": {},
   "outputs": [
    {
     "name": "stdout",
     "output_type": "stream",
     "text": [
      "\n",
      " Cross Table Comparing Loan Status (in Number of Percentage) against Home Ownership\n"
     ]
    },
    {
     "data": {
      "text/html": [
       "<style  type=\"text/css\" >\n",
       "</style><table id=\"T_9c2d2c63_c336_11ed_a64a_f8cab85fdfa6\" ><thead>    <tr>        <th class=\"index_name level0\" >home_ownership</th>        <th class=\"col_heading level0 col0\" >MORTGAGE</th>        <th class=\"col_heading level0 col1\" >OTHER</th>        <th class=\"col_heading level0 col2\" >OWN</th>        <th class=\"col_heading level0 col3\" >RENT</th>        <th class=\"col_heading level0 col4\" >Subtotals</th>    </tr>    <tr>        <th class=\"index_name level0\" >loan_status</th>        <th class=\"blank\" ></th>        <th class=\"blank\" ></th>        <th class=\"blank\" ></th>        <th class=\"blank\" ></th>        <th class=\"blank\" ></th>    </tr></thead><tbody>\n",
       "                <tr>\n",
       "                        <th id=\"T_9c2d2c63_c336_11ed_a64a_f8cab85fdfa6level0_row0\" class=\"row_heading level0 row0\" >Charged Off</th>\n",
       "                        <td id=\"T_9c2d2c63_c336_11ed_a64a_f8cab85fdfa6row0_col0\" class=\"data row0 col0\" >12.65%</td>\n",
       "                        <td id=\"T_9c2d2c63_c336_11ed_a64a_f8cab85fdfa6row0_col1\" class=\"data row0 col1\" >19.15%</td>\n",
       "                        <td id=\"T_9c2d2c63_c336_11ed_a64a_f8cab85fdfa6row0_col2\" class=\"data row0 col2\" >13.44%</td>\n",
       "                        <td id=\"T_9c2d2c63_c336_11ed_a64a_f8cab85fdfa6row0_col3\" class=\"data row0 col3\" >14.41%</td>\n",
       "                        <td id=\"T_9c2d2c63_c336_11ed_a64a_f8cab85fdfa6row0_col4\" class=\"data row0 col4\" >13.57%</td>\n",
       "            </tr>\n",
       "            <tr>\n",
       "                        <th id=\"T_9c2d2c63_c336_11ed_a64a_f8cab85fdfa6level0_row1\" class=\"row_heading level0 row1\" >Current</th>\n",
       "                        <td id=\"T_9c2d2c63_c336_11ed_a64a_f8cab85fdfa6row1_col0\" class=\"data row1 col0\" >3.66%</td>\n",
       "                        <td id=\"T_9c2d2c63_c336_11ed_a64a_f8cab85fdfa6row1_col1\" class=\"data row1 col1\" >0.00%</td>\n",
       "                        <td id=\"T_9c2d2c63_c336_11ed_a64a_f8cab85fdfa6row1_col2\" class=\"data row1 col2\" >2.72%</td>\n",
       "                        <td id=\"T_9c2d2c63_c336_11ed_a64a_f8cab85fdfa6row1_col3\" class=\"data row1 col3\" >2.28%</td>\n",
       "                        <td id=\"T_9c2d2c63_c336_11ed_a64a_f8cab85fdfa6row1_col4\" class=\"data row1 col4\" >2.93%</td>\n",
       "            </tr>\n",
       "            <tr>\n",
       "                        <th id=\"T_9c2d2c63_c336_11ed_a64a_f8cab85fdfa6level0_row2\" class=\"row_heading level0 row2\" >Fully Paid</th>\n",
       "                        <td id=\"T_9c2d2c63_c336_11ed_a64a_f8cab85fdfa6row2_col0\" class=\"data row2 col0\" >83.69%</td>\n",
       "                        <td id=\"T_9c2d2c63_c336_11ed_a64a_f8cab85fdfa6row2_col1\" class=\"data row2 col1\" >80.85%</td>\n",
       "                        <td id=\"T_9c2d2c63_c336_11ed_a64a_f8cab85fdfa6row2_col2\" class=\"data row2 col2\" >83.84%</td>\n",
       "                        <td id=\"T_9c2d2c63_c336_11ed_a64a_f8cab85fdfa6row2_col3\" class=\"data row2 col3\" >83.30%</td>\n",
       "                        <td id=\"T_9c2d2c63_c336_11ed_a64a_f8cab85fdfa6row2_col4\" class=\"data row2 col4\" >83.51%</td>\n",
       "            </tr>\n",
       "    </tbody></table>"
      ],
      "text/plain": [
       "<pandas.io.formats.style.Styler at 0x1dfa44e7c10>"
      ]
     },
     "execution_count": 39,
     "metadata": {},
     "output_type": "execute_result"
    }
   ],
   "source": [
    "ct3 = pd.crosstab(data3.loan_status, data3.home_ownership , margins = True, margins_name = 'Subtotals', normalize = 'columns').style.format('{:.2%}')\n",
    "print(\"\\n Cross Table Comparing Loan Status (in Number of Percentage) against Home Ownership\")\n",
    "ct3"
   ]
  },
  {
   "cell_type": "markdown",
   "metadata": {},
   "source": [
    "<font color=red>\n",
    "    Among the defaulters, those in Rental house are higher than those in own house. This suggest that borrowers with own home are less likely to default\n",
    "\n",
    "</font>"
   ]
  },
  {
   "cell_type": "markdown",
   "metadata": {},
   "source": [
    "# <font color=green> 5. Important Observations from the Analysis </font>"
   ]
  },
  {
   "cell_type": "markdown",
   "metadata": {},
   "source": [
    "<font color=red>\n",
    "    \n",
    "## 1. Loan Status in this dataset clearly shows that the data is highly imbalanced. 83.5 % loans are fully paid and only 13.6 % loans are Charged Off.\n",
    "    \n",
    "## 2.When loan amount exceeds 30000 more likely it could be default\n",
    "    \n",
    "## 3. At interest rates higher than 20 - 22.5 % chances for loan default.\n",
    "\n",
    "## 4. Loans with 60 months term are more likely to default.\n",
    "    \n",
    "## 5. Loans with 60 months term are with high interest rates\n",
    "    \n",
    "## 6. Borrowers with own home are less likely to default\n",
    "    \n",
    "</font>\n"
   ]
  },
  {
   "cell_type": "markdown",
   "metadata": {},
   "source": [
    "<font color=orange>\n",
    "    **********************************************************************************************************************************************************"
   ]
  },
  {
   "cell_type": "markdown",
   "metadata": {},
   "source": [
    "Other Analysis form this Dataset"
   ]
  },
  {
   "cell_type": "code",
   "execution_count": 40,
   "metadata": {},
   "outputs": [
    {
     "data": {
      "text/plain": [
       "Text(0, 0.5, 'Count')"
      ]
     },
     "execution_count": 40,
     "metadata": {},
     "output_type": "execute_result"
    },
    {
     "data": {
      "image/png": "[encoded data removed]",
      "text/plain": [
       "<Figure size 720x720 with 1 Axes>"
      ]
     },
     "metadata": {},
     "output_type": "display_data"
    }
   ],
   "source": [
    "ct9graph = data3.groupby('purpose').loan_status.value_counts().unstack().plot(kind='bar', figsize = ( 10 , 10 ), fontsize = 10)\n",
    "ct9graph.grid('on', which='minor', axis='y' )\n",
    "ct9graph.grid('on', which='major', axis='y' )\n",
    "ct9graph.set_title('Grouping Loan Status on basis of Purpose',fontsize = 15)\n",
    "ct9graph.set_xlabel(\"Purpose\",fontsize = 15)\n",
    "ct9graph.set_ylabel(\"Count\",fontsize = 15)"
   ]
  },
  {
   "cell_type": "code",
   "execution_count": 41,
   "metadata": {},
   "outputs": [
    {
     "data": {
      "text/plain": [
       "Text(0, 0.5, 'Count')"
      ]
     },
     "execution_count": 41,
     "metadata": {},
     "output_type": "execute_result"
    },
    {
     "data": {
      "image/png": "[encoded data removed]",
      "text/plain": [
       "<Figure size 720x720 with 1 Axes>"
      ]
     },
     "metadata": {},
     "output_type": "display_data"
    }
   ],
   "source": [
    "ct10agraph = data3.groupby('addr_state').loan_status.value_counts().unstack().plot(kind='bar', figsize = ( 10 , 10 ), fontsize = 10)\n",
    "ct10agraph.grid('on', which='minor', axis='y' )\n",
    "ct10agraph.grid('on', which='major', axis='y' )\n",
    "ct10agraph.set_title('Grouping Loan Status on basis of State',fontsize = 15)\n",
    "ct10agraph.set_xlabel(\"State\",fontsize = 15)\n",
    "ct10agraph.set_ylabel(\"Count\",fontsize = 15)"
   ]
  },
  {
   "cell_type": "code",
   "execution_count": 42,
   "metadata": {},
   "outputs": [
    {
     "data": {
      "text/plain": [
       "Text(0, 0.5, 'Percentage')"
      ]
     },
     "execution_count": 42,
     "metadata": {},
     "output_type": "execute_result"
    },
    {
     "data": {
      "image/png": "[encoded data removed]",
      "text/plain": [
       "<Figure size 720x720 with 1 Axes>"
      ]
     },
     "metadata": {},
     "output_type": "display_data"
    }
   ],
   "source": [
    "ct7graph = data3.groupby('verification_status').loan_status.value_counts(normalize=True).mul(100).round(1).unstack().plot(kind='bar', figsize = ( 10 , 10 ),yticks=[5,10,15,20,25,30,35,40,45,50,55,60,65,70,75,80,85,90,95,100], fontsize = 10)\n",
    "ct7graph.grid('on', which='minor', axis='y' )\n",
    "ct7graph.grid('on', which='major', axis='y' )\n",
    "ct7graph.set_title('Grouping Loan Status on basis of Verification Status',fontsize = 15)\n",
    "ct7graph.set_xlabel(\"Verification Status\",fontsize = 15)\n",
    "ct7graph.set_ylabel(\"Percentage\",fontsize = 15)"
   ]
  },
  {
   "cell_type": "code",
   "execution_count": null,
   "metadata": {},
   "outputs": [],
   "source": []
  },
  {
   "cell_type": "code",
   "execution_count": null,
   "metadata": {},
   "outputs": [],
   "source": []
  },
  {
   "cell_type": "code",
   "execution_count": null,
   "metadata": {},
   "outputs": [],
   "source": []
  },
  {
   "cell_type": "code",
   "execution_count": null,
   "metadata": {},
   "outputs": [],
   "source": []
  }
 ],
 "metadata": {
  "kernelspec": {
   "display_name": "Python 3",
   "language": "python",
   "name": "python3"
  },
  "language_info": {
   "codemirror_mode": {
    "name": "ipython",
    "version": 3
   },
   "file_extension": ".py",
   "mimetype": "text/x-python",
   "name": "python",
   "nbconvert_exporter": "python",
   "pygments_lexer": "ipython3",
   "version": "3.8.3"
  }
 },
 "nbformat": 4,
 "nbformat_minor": 4
}
